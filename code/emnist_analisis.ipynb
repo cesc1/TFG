{
 "cells": [
  {
   "cell_type": "code",
   "execution_count": 198,
   "source": [
    "import os\r\n",
    "import numpy as np\r\n",
    "import pandas as pd\r\n",
    "\r\n",
    "%matplotlib inline\r\n",
    "import matplotlib as mpl\r\n",
    "import matplotlib.pyplot as plt\r\n",
    "mpl.rc('axes', labelsize=14)\r\n",
    "mpl.rc('xtick', labelsize=12)\r\n",
    "mpl.rc('ytick', labelsize=12)\r\n",
    "\r\n",
    "#import tensorflow as tf\r\n",
    "#from tensorflow import keras\r\n",
    "\r\n",
    "from emnist import list_datasets, extract_training_samples, extract_test_samples\r\n",
    "\r\n",
    "def save_fig(fig_id, tight_layout=True, fig_extension=\"png\", resolution=300):\r\n",
    "    path = fig_id + \".\" + fig_extension\r\n",
    "    print(\"Saving figure\", fig_id)\r\n",
    "    if tight_layout:\r\n",
    "        plt.tight_layout()\r\n",
    "    plt.savefig(path, format=fig_extension, dpi=resolution)"
   ],
   "outputs": [],
   "metadata": {}
  },
  {
   "cell_type": "markdown",
   "source": [
    "# 1. Load data"
   ],
   "metadata": {}
  },
  {
   "cell_type": "code",
   "execution_count": 2,
   "source": [
    "print(list_datasets())\r\n",
    "\r\n",
    "X_full_train, y_full_train = extract_training_samples('byclass')\r\n",
    "X_test, y_test = extract_test_samples(\"byclass\")"
   ],
   "outputs": [
    {
     "output_type": "stream",
     "name": "stdout",
     "text": [
      "['balanced', 'byclass', 'bymerge', 'digits', 'letters', 'mnist']\n"
     ]
    }
   ],
   "metadata": {}
  },
  {
   "cell_type": "code",
   "execution_count": 14,
   "source": [
    "from sklearn.model_selection import train_test_split\r\n",
    "\r\n",
    "X_train, X_val, y_train, y_val = train_test_split(X_full_train, y_full_train, test_size = 0.1, random_state = 123)\r\n",
    "# del X_full_train, y_full_train # Free memory"
   ],
   "outputs": [],
   "metadata": {}
  },
  {
   "cell_type": "markdown",
   "source": [
    "# 2. Descriptius, visualització"
   ],
   "metadata": {}
  },
  {
   "cell_type": "code",
   "execution_count": 26,
   "source": [
    "n = len(X_train) + len(X_val) + len(X_test)\r\n",
    "print(\"Train prop: \", len(X_train) / n * 100)\r\n",
    "print(\"Validation prop: \", len(X_val) / n * 100)\r\n",
    "print(\"Test prop: \", len(X_test) / n * 100)"
   ],
   "outputs": [
    {
     "output_type": "stream",
     "name": "stdout",
     "text": [
      "Train prop:  77.14266415312156\n",
      "Validation prop:  8.571516294035654\n",
      "Test prop:  14.285819552842781\n"
     ]
    }
   ],
   "metadata": {}
  },
  {
   "cell_type": "code",
   "execution_count": 205,
   "source": [
    "print(X_train.shape)\r\n",
    "table_counts = pd.crosstab(y_train, columns = \"counts\")\r\n",
    "table_counts"
   ],
   "outputs": [
    {
     "output_type": "stream",
     "name": "stdout",
     "text": [
      "(628138, 28, 28)\n"
     ]
    },
    {
     "output_type": "execute_result",
     "data": {
      "text/plain": [
       "col_0  counts\n",
       "row_0        \n",
       "0       31163\n",
       "1       34586\n",
       "2       30713\n",
       "3       31606\n",
       "4       30136\n",
       "...       ...\n",
       "57       2590\n",
       "58       2450\n",
       "59       2538\n",
       "60       2114\n",
       "61       2468\n",
       "\n",
       "[62 rows x 1 columns]"
      ],
      "text/html": [
       "<div>\n",
       "<style scoped>\n",
       "    .dataframe tbody tr th:only-of-type {\n",
       "        vertical-align: middle;\n",
       "    }\n",
       "\n",
       "    .dataframe tbody tr th {\n",
       "        vertical-align: top;\n",
       "    }\n",
       "\n",
       "    .dataframe thead th {\n",
       "        text-align: right;\n",
       "    }\n",
       "</style>\n",
       "<table border=\"1\" class=\"dataframe\">\n",
       "  <thead>\n",
       "    <tr style=\"text-align: right;\">\n",
       "      <th>col_0</th>\n",
       "      <th>counts</th>\n",
       "    </tr>\n",
       "    <tr>\n",
       "      <th>row_0</th>\n",
       "      <th></th>\n",
       "    </tr>\n",
       "  </thead>\n",
       "  <tbody>\n",
       "    <tr>\n",
       "      <th>0</th>\n",
       "      <td>31163</td>\n",
       "    </tr>\n",
       "    <tr>\n",
       "      <th>1</th>\n",
       "      <td>34586</td>\n",
       "    </tr>\n",
       "    <tr>\n",
       "      <th>2</th>\n",
       "      <td>30713</td>\n",
       "    </tr>\n",
       "    <tr>\n",
       "      <th>3</th>\n",
       "      <td>31606</td>\n",
       "    </tr>\n",
       "    <tr>\n",
       "      <th>4</th>\n",
       "      <td>30136</td>\n",
       "    </tr>\n",
       "    <tr>\n",
       "      <th>...</th>\n",
       "      <td>...</td>\n",
       "    </tr>\n",
       "    <tr>\n",
       "      <th>57</th>\n",
       "      <td>2590</td>\n",
       "    </tr>\n",
       "    <tr>\n",
       "      <th>58</th>\n",
       "      <td>2450</td>\n",
       "    </tr>\n",
       "    <tr>\n",
       "      <th>59</th>\n",
       "      <td>2538</td>\n",
       "    </tr>\n",
       "    <tr>\n",
       "      <th>60</th>\n",
       "      <td>2114</td>\n",
       "    </tr>\n",
       "    <tr>\n",
       "      <th>61</th>\n",
       "      <td>2468</td>\n",
       "    </tr>\n",
       "  </tbody>\n",
       "</table>\n",
       "<p>62 rows × 1 columns</p>\n",
       "</div>"
      ]
     },
     "metadata": {},
     "execution_count": 205
    }
   ],
   "metadata": {}
  },
  {
   "cell_type": "code",
   "execution_count": null,
   "source": [
    "freq = pd.DataFrame(pd.DataFrame(y_train).value_counts(sort = False))\r\n",
    "freq[\"perc\"] = freq / len(y_train)"
   ],
   "outputs": [],
   "metadata": {}
  },
  {
   "cell_type": "code",
   "execution_count": 214,
   "source": [
    "plt.bar(np.arange(62), np.array(table_counts).reshape(62))\r\n",
    "plt.show()"
   ],
   "outputs": [
    {
     "output_type": "display_data",
     "data": {
      "text/plain": [
       "<Figure size 432x288 with 1 Axes>"
      ],
      "image/png": "[encoded data removed]"
     },
     "metadata": {
      "needs_background": "light"
     }
    }
   ],
   "metadata": {}
  },
  {
   "cell_type": "code",
   "execution_count": 213,
   "source": [],
   "outputs": [
    {
     "output_type": "execute_result",
     "data": {
      "text/plain": [
       "(62,)"
      ]
     },
     "metadata": {},
     "execution_count": 213
    }
   ],
   "metadata": {}
  },
  {
   "cell_type": "code",
   "execution_count": 104,
   "source": [
    "print(\"Maxim pixel = \", np.max(X_train))\r\n",
    "\r\n",
    "n = len(X_train)\r\n",
    "prop_greater = np.zeros((5, 28, 28)) # axis0 = pixel (0, 150, 250, mean, sd)\r\n",
    "\r\n",
    "for row in range(X_train.shape[1]):\r\n",
    "    for col in range(X_train.shape[2]):\r\n",
    "        prop_greater[0, row, col] = np.count_nonzero(X_train[:, row, col])\r\n",
    "        prop_greater[1, row, col] = np.count_nonzero(X_train[:, row, col] > 150)\r\n",
    "        prop_greater[2, row, col] = np.count_nonzero(X_train[:, row, col] > 250)\r\n",
    "        prop_greater[3, row, col] = np.mean(X_train[:, row, col])\r\n",
    "        prop_greater[4, row, col] = np.std(X_train[:, row, col])"
   ],
   "outputs": [
    {
     "output_type": "stream",
     "name": "stdout",
     "text": [
      "Maxim pixel =  255\n"
     ]
    }
   ],
   "metadata": {}
  },
  {
   "cell_type": "code",
   "execution_count": 105,
   "source": [
    "def plot_img_cb(data, title = \"\"):\r\n",
    "    plt.imshow(data)\r\n",
    "    plt.axis(\"off\")\r\n",
    "    plt.colorbar()\r\n",
    "    plt.title(title)\r\n",
    "    plt.show()"
   ],
   "outputs": [],
   "metadata": {}
  },
  {
   "cell_type": "code",
   "execution_count": 193,
   "source": [
    "plot_img_cb(prop_greater[1] / n, \"Proportion pixels > 150 in traning sample\")"
   ],
   "outputs": [
    {
     "output_type": "display_data",
     "data": {
      "text/plain": [
       "<Figure size 432x288 with 2 Axes>"
      ],
      "image/png": "[encoded data removed]"
     },
     "metadata": {
      "needs_background": "light"
     }
    }
   ],
   "metadata": {}
  },
  {
   "cell_type": "code",
   "execution_count": 194,
   "source": [
    "plot_img_cb(prop_greater[4], \"Proporcio SD dels pixels train sample\")"
   ],
   "outputs": [
    {
     "output_type": "display_data",
     "data": {
      "text/plain": [
       "<Figure size 432x288 with 2 Axes>"
      ],
      "image/png": "[encoded data removed]"
     },
     "metadata": {
      "needs_background": "light"
     }
    }
   ],
   "metadata": {}
  },
  {
   "cell_type": "code",
   "execution_count": 195,
   "source": [
    "plt.bar(np.arange(28*28), prop_greater[2].reshape(28*28))\r\n",
    "plt.show()"
   ],
   "outputs": [
    {
     "output_type": "display_data",
     "data": {
      "text/plain": [
       "<Figure size 432x288 with 1 Axes>"
      ],
      "image/png": "[encoded data removed]"
     },
     "metadata": {
      "needs_background": "light"
     }
    }
   ],
   "metadata": {}
  },
  {
   "cell_type": "markdown",
   "source": [
    "## Plotting images"
   ],
   "metadata": {}
  },
  {
   "cell_type": "code",
   "execution_count": 189,
   "source": [
    "def label_to_letter(label):\r\n",
    "    if label >= 0 and label <= 9:\r\n",
    "        return label\r\n",
    "    elif label >= 10 and label <= 35:\r\n",
    "        return chr(label + 55)\r\n",
    "    elif label >= 36 and label <= 61:\r\n",
    "        return chr(label + 61)\r\n",
    "    else:\r\n",
    "        raise ValueError(\"Label '{}' fora dels limits\".format(label))\r\n",
    "\r\n",
    "label_to_letter(1)"
   ],
   "outputs": [
    {
     "output_type": "execute_result",
     "data": {
      "text/plain": [
       "1"
      ]
     },
     "metadata": {},
     "execution_count": 189
    }
   ],
   "metadata": {}
  },
  {
   "cell_type": "code",
   "execution_count": 196,
   "source": [
    "sample_images = X_train[y_train == 61][:10]\r\n",
    "plot_img_cb(sample_images[4], label_to_letter(61))"
   ],
   "outputs": [
    {
     "output_type": "display_data",
     "data": {
      "text/plain": [
       "<Figure size 432x288 with 2 Axes>"
      ],
      "image/png": "[encoded data removed]"
     },
     "metadata": {
      "needs_background": "light"
     }
    }
   ],
   "metadata": {}
  },
  {
   "cell_type": "code",
   "execution_count": 199,
   "source": [
    "def plot_images(images, labels, rows = 5, cols = 5, size_mult = 1.2):\r\n",
    "    plt.figure(figsize = (cols * size_mult, rows * size_mult))\r\n",
    "    for row in range(rows):\r\n",
    "        for col in range(cols): \r\n",
    "            index = cols * row + col\r\n",
    "            plt.subplot(rows, cols, index + 1)\r\n",
    "            plt.imshow(images[index], cmap = \"binary\", interpolation = \"nearest\")\r\n",
    "            plt.axis(\"off\")\r\n",
    "            plt.title(label_to_letter(labels[index]), fontsize = 12)\r\n",
    "    plt.subplots_adjust(wspace = 0.2, hspace = 0.5)\r\n",
    "    plt.show()"
   ],
   "outputs": [],
   "metadata": {}
  },
  {
   "cell_type": "code",
   "execution_count": 200,
   "source": [
    "plot_images(X_train, y_train)"
   ],
   "outputs": [
    {
     "output_type": "display_data",
     "data": {
      "text/plain": [
       "<Figure size 432x432 with 25 Axes>"
      ],
      "image/png": "[encoded data removed]"
     },
     "metadata": {
      "needs_background": "light"
     }
    }
   ],
   "metadata": {}
  },
  {
   "cell_type": "code",
   "execution_count": null,
   "source": [
    "for label in range()\r\n",
    "\r\n",
    "sample_images = X_train[y_train == 61][:10]\r\n",
    "plot_img_cb(sample_images[4], label_to_letter(61))"
   ],
   "outputs": [],
   "metadata": {}
  },
  {
   "cell_type": "markdown",
   "source": [
    "# 3. Preprocessament, transformacions\r\n",
    "\r\n",
    "Min-Max scaling (normalization). Dividir per 255 ($X_f = \\frac{X - X_{min}}{X_{max} - X_{min}}$).\r\n",
    "\r\n",
    "Aquí tambè es pot probar feature extraction si probem models tradicionals."
   ],
   "metadata": {}
  },
  {
   "cell_type": "code",
   "execution_count": null,
   "source": [],
   "outputs": [],
   "metadata": {}
  }
 ],
 "metadata": {
  "interpreter": {
   "hash": "240ade2d8f7070515eb92b58feb4182c269d972728a568c5e7f067643896a2b7"
  },
  "kernelspec": {
   "display_name": "Python 3.8.6 64-bit ('.venv': venv)",
   "name": "python3"
  },
  "language_info": {
   "codemirror_mode": {
    "name": "ipython",
    "version": 3
   },
   "file_extension": ".py",
   "mimetype": "text/x-python",
   "name": "python",
   "nbconvert_exporter": "python",
   "pygments_lexer": "ipython3",
   "version": "3.8.6"
  },
  "orig_nbformat": 4
 },
 "nbformat": 4,
 "nbformat_minor": 2
}