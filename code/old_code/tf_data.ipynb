{
 "cells": [
  {
   "cell_type": "code",
   "execution_count": 24,
   "metadata": {},
   "outputs": [],
   "source": [
    "import os\r\n",
    "import numpy as np\r\n",
    "import pandas as pd\r\n",
    "\r\n",
    "%matplotlib inline\r\n",
    "import matplotlib as mpl\r\n",
    "import matplotlib.pyplot as plt\r\n",
    "#mpl.rc('axes', labelsize=14)\r\n",
    "#mpl.rc('xtick', labelsize=12)\r\n",
    "#mpl.rc('ytick', labelsize=12)\r\n",
    "\r\n",
    "import tensorflow as tf\r\n",
    "from tensorflow import keras"
   ]
  },
  {
   "cell_type": "markdown",
   "metadata": {},
   "source": [
    "# Data API\r\n",
    "\r\n",
    "## Dataset in ram:"
   ]
  },
  {
   "cell_type": "code",
   "execution_count": 25,
   "metadata": {},
   "outputs": [
    {
     "data": {
      "text/plain": [
       "<TensorSliceDataset shapes: (), types: tf.int32>"
      ]
     },
     "execution_count": 25,
     "metadata": {},
     "output_type": "execute_result"
    }
   ],
   "source": [
    "X = tf.range(10) # 10 items 0:10\r\n",
    "dataset = tf.data.Dataset.from_tensor_slices(X) # Equivalent: tf.data.Dataset.range(10)\r\n",
    "dataset"
   ]
  },
  {
   "cell_type": "code",
   "execution_count": 26,
   "metadata": {},
   "outputs": [
    {
     "name": "stdout",
     "output_type": "stream",
     "text": [
      "tf.Tensor(0, shape=(), dtype=int32)\n",
      "tf.Tensor(1, shape=(), dtype=int32)\n",
      "tf.Tensor(2, shape=(), dtype=int32)\n",
      "tf.Tensor(3, shape=(), dtype=int32)\n",
      "tf.Tensor(4, shape=(), dtype=int32)\n",
      "tf.Tensor(5, shape=(), dtype=int32)\n",
      "tf.Tensor(6, shape=(), dtype=int32)\n",
      "tf.Tensor(7, shape=(), dtype=int32)\n",
      "tf.Tensor(8, shape=(), dtype=int32)\n",
      "tf.Tensor(9, shape=(), dtype=int32)\n"
     ]
    }
   ],
   "source": [
    "for item in dataset:\r\n",
    "    print(item)"
   ]
  },
  {
   "cell_type": "markdown",
   "metadata": {},
   "source": [
    "## Chaining Transformations"
   ]
  },
  {
   "cell_type": "code",
   "execution_count": 27,
   "metadata": {},
   "outputs": [
    {
     "name": "stdout",
     "output_type": "stream",
     "text": [
      "tf.Tensor([0 1 2 3 4 5 6], shape=(7,), dtype=int32)\n",
      "tf.Tensor([7 8 9 0 1 2 3], shape=(7,), dtype=int32)\n",
      "tf.Tensor([4 5 6 7 8 9 0], shape=(7,), dtype=int32)\n",
      "tf.Tensor([1 2 3 4 5 6 7], shape=(7,), dtype=int32)\n",
      "tf.Tensor([8 9], shape=(2,), dtype=int32)\n"
     ]
    }
   ],
   "source": [
    "dataset = dataset.repeat(3).batch(7)\r\n",
    "for item in dataset:\r\n",
    "    print(item)"
   ]
  },
  {
   "cell_type": "code",
   "execution_count": 28,
   "metadata": {},
   "outputs": [
    {
     "name": "stdout",
     "output_type": "stream",
     "text": [
      "tf.Tensor([ 0  2  4  6  8 10 12], shape=(7,), dtype=int32)\n",
      "tf.Tensor([14 16 18  0  2  4  6], shape=(7,), dtype=int32)\n",
      "tf.Tensor([ 8 10 12 14 16 18  0], shape=(7,), dtype=int32)\n",
      "tf.Tensor([ 2  4  6  8 10 12 14], shape=(7,), dtype=int32)\n",
      "tf.Tensor([16 18], shape=(2,), dtype=int32)\n"
     ]
    }
   ],
   "source": [
    "# Transformació a cada item\r\n",
    "dataset = dataset.map(lambda x: x * 2)\r\n",
    "for item in dataset:\r\n",
    "    print(item)"
   ]
  },
  {
   "cell_type": "code",
   "execution_count": 29,
   "metadata": {},
   "outputs": [],
   "source": [
    "# Transformació al dataset en general\r\n",
    "dataset = dataset.apply(tf.data.experimental.unbatch()) # Crea batches individuals (en comptes de 7 en 7 com abans)"
   ]
  },
  {
   "cell_type": "code",
   "execution_count": 37,
   "metadata": {},
   "outputs": [
    {
     "name": "stdout",
     "output_type": "stream",
     "text": [
      "tf.Tensor(0, shape=(), dtype=int32)\n",
      "tf.Tensor(2, shape=(), dtype=int32)\n",
      "tf.Tensor(4, shape=(), dtype=int32)\n",
      "tf.Tensor(6, shape=(), dtype=int32)\n",
      "tf.Tensor(8, shape=(), dtype=int32)\n",
      "tf.Tensor(0, shape=(), dtype=int32)\n",
      "tf.Tensor(2, shape=(), dtype=int32)\n"
     ]
    }
   ],
   "source": [
    "# Filtrar valors:\r\n",
    "dataset = dataset.filter(lambda x: x < 10)\r\n",
    "for item in dataset.take(7): # mira 7 primers items\r\n",
    "    print(item)"
   ]
  },
  {
   "cell_type": "markdown",
   "metadata": {},
   "source": [
    "## Shuffling"
   ]
  },
  {
   "cell_type": "code",
   "execution_count": 45,
   "metadata": {},
   "outputs": [
    {
     "name": "stdout",
     "output_type": "stream",
     "text": [
      "tf.Tensor([0 2 3 6 7 9 4], shape=(7,), dtype=int64)\n",
      "tf.Tensor([5 0 1 1 8 6 5], shape=(7,), dtype=int64)\n",
      "tf.Tensor([4 8 7 1 2 3 0], shape=(7,), dtype=int64)\n",
      "tf.Tensor([5 4 2 7 8 9 9], shape=(7,), dtype=int64)\n",
      "tf.Tensor([3 6], shape=(2,), dtype=int64)\n"
     ]
    }
   ],
   "source": [
    "# Si cap en memòria:\r\n",
    "dataset = tf.data.Dataset.range(10).repeat(3)\r\n",
    "dataset = dataset.shuffle(buffer_size = 5, seed = 42).batch(7)\r\n",
    "for item in dataset:\r\n",
    "    print(item)"
   ]
  },
  {
   "cell_type": "code",
   "execution_count": 47,
   "metadata": {},
   "outputs": [],
   "source": [
    "# Si no cap:\r\n",
    "from sklearn.datasets import fetch_california_housing\r\n",
    "from sklearn.model_selection import train_test_split\r\n",
    "from sklearn.preprocessing import StandardScaler\r\n",
    "\r\n",
    "housing = fetch_california_housing()\r\n",
    "X_train_full, X_test, y_train_full, y_test = train_test_split(\r\n",
    "    housing.data, housing.target.reshape(-1, 1), random_state = 42)\r\n",
    "X_train, X_valid, y_train, y_valid = train_test_split(\r\n",
    "    X_train_full, y_train_full, random_state = 42)\r\n",
    "scaler = StandardScaler()\r\n",
    "scaler.fit(X_train)\r\n",
    "X_mean = scaler.mean_\r\n",
    "X_std = scaler.scale_"
   ]
  },
  {
   "cell_type": "code",
   "execution_count": 58,
   "metadata": {},
   "outputs": [],
   "source": [
    "# Split the dataset:\r\n",
    "def save_to_multiple_csv_files(data, name_prefix, header = None, n_parts = 10):\r\n",
    "    housing_dir = os.path.join(\"datasets\", \"housing\")\r\n",
    "    os.makedirs(housing_dir, exist_ok = True)\r\n",
    "    path_format = os.path.join(housing_dir, \"my_{}_{:02d}.csv\")\r\n",
    "\r\n",
    "    filepaths = []\r\n",
    "    m = len(data)\r\n",
    "    for file_idx, row_indices in enumerate(np.array_split(np.arange(m), n_parts)):\r\n",
    "        part_csv = path_format.format(name_prefix, file_idx)\r\n",
    "        filepaths.append(part_csv)\r\n",
    "        with open(part_csv, \"wt\", encoding = \"utf-8\") as f:\r\n",
    "            if header is not None:\r\n",
    "                f.write(header)\r\n",
    "                f.write(\"\\n\")\r\n",
    "            for row_idx in row_indices:\r\n",
    "                f.write(\",\".join([repr(col) for col in data[row_idx]]))\r\n",
    "                f.write(\"\\n\")\r\n",
    "    return filepaths"
   ]
  },
  {
   "cell_type": "code",
   "execution_count": 62,
   "metadata": {},
   "outputs": [],
   "source": [
    "train_data = np.c_[X_train, y_train]\r\n",
    "valid_data = np.c_[X_valid, y_valid]\r\n",
    "test_data = np.c_[X_test, y_test]\r\n",
    "header_cols = housing.feature_names + [\"MedianHouseValue\"]\r\n",
    "header = \",\".join(header_cols)\r\n",
    "\r\n",
    "train_filepaths = save_to_multiple_csv_files(train_data, \"train\", header, n_parts = 20)\r\n",
    "valid_filepaths = save_to_multiple_csv_files(valid_data, \"valid\", header, n_parts = 10)\r\n",
    "test_filepaths = save_to_multiple_csv_files(test_data, \"test\", header, n_parts = 10)"
   ]
  },
  {
   "cell_type": "code",
   "execution_count": 63,
   "metadata": {},
   "outputs": [
    {
     "data": {
      "text/html": [
       "<div>\n",
       "<style scoped>\n",
       "    .dataframe tbody tr th:only-of-type {\n",
       "        vertical-align: middle;\n",
       "    }\n",
       "\n",
       "    .dataframe tbody tr th {\n",
       "        vertical-align: top;\n",
       "    }\n",
       "\n",
       "    .dataframe thead th {\n",
       "        text-align: right;\n",
       "    }\n",
       "</style>\n",
       "<table border=\"1\" class=\"dataframe\">\n",
       "  <thead>\n",
       "    <tr style=\"text-align: right;\">\n",
       "      <th></th>\n",
       "      <th>MedInc</th>\n",
       "      <th>HouseAge</th>\n",
       "      <th>AveRooms</th>\n",
       "      <th>AveBedrms</th>\n",
       "      <th>Population</th>\n",
       "      <th>AveOccup</th>\n",
       "      <th>Latitude</th>\n",
       "      <th>Longitude</th>\n",
       "      <th>MedianHouseValue</th>\n",
       "    </tr>\n",
       "  </thead>\n",
       "  <tbody>\n",
       "    <tr>\n",
       "      <th>0</th>\n",
       "      <td>3.5214</td>\n",
       "      <td>15.0</td>\n",
       "      <td>3.049945</td>\n",
       "      <td>1.106548</td>\n",
       "      <td>1447.0</td>\n",
       "      <td>1.605993</td>\n",
       "      <td>37.63</td>\n",
       "      <td>-122.43</td>\n",
       "      <td>1.442</td>\n",
       "    </tr>\n",
       "    <tr>\n",
       "      <th>1</th>\n",
       "      <td>5.3275</td>\n",
       "      <td>5.0</td>\n",
       "      <td>6.490060</td>\n",
       "      <td>0.991054</td>\n",
       "      <td>3464.0</td>\n",
       "      <td>3.443340</td>\n",
       "      <td>33.69</td>\n",
       "      <td>-117.39</td>\n",
       "      <td>1.687</td>\n",
       "    </tr>\n",
       "    <tr>\n",
       "      <th>2</th>\n",
       "      <td>3.1000</td>\n",
       "      <td>29.0</td>\n",
       "      <td>7.542373</td>\n",
       "      <td>1.591525</td>\n",
       "      <td>1328.0</td>\n",
       "      <td>2.250847</td>\n",
       "      <td>38.44</td>\n",
       "      <td>-122.98</td>\n",
       "      <td>1.621</td>\n",
       "    </tr>\n",
       "    <tr>\n",
       "      <th>3</th>\n",
       "      <td>7.1736</td>\n",
       "      <td>12.0</td>\n",
       "      <td>6.289003</td>\n",
       "      <td>0.997442</td>\n",
       "      <td>1054.0</td>\n",
       "      <td>2.695652</td>\n",
       "      <td>33.55</td>\n",
       "      <td>-117.70</td>\n",
       "      <td>2.621</td>\n",
       "    </tr>\n",
       "    <tr>\n",
       "      <th>4</th>\n",
       "      <td>2.0549</td>\n",
       "      <td>13.0</td>\n",
       "      <td>5.312457</td>\n",
       "      <td>1.085092</td>\n",
       "      <td>3297.0</td>\n",
       "      <td>2.244384</td>\n",
       "      <td>33.93</td>\n",
       "      <td>-116.93</td>\n",
       "      <td>0.956</td>\n",
       "    </tr>\n",
       "  </tbody>\n",
       "</table>\n",
       "</div>"
      ],
      "text/plain": [
       "   MedInc  HouseAge  AveRooms  AveBedrms  Population  AveOccup  Latitude  \\\n",
       "0  3.5214      15.0  3.049945   1.106548      1447.0  1.605993     37.63   \n",
       "1  5.3275       5.0  6.490060   0.991054      3464.0  3.443340     33.69   \n",
       "2  3.1000      29.0  7.542373   1.591525      1328.0  2.250847     38.44   \n",
       "3  7.1736      12.0  6.289003   0.997442      1054.0  2.695652     33.55   \n",
       "4  2.0549      13.0  5.312457   1.085092      3297.0  2.244384     33.93   \n",
       "\n",
       "   Longitude  MedianHouseValue  \n",
       "0    -122.43             1.442  \n",
       "1    -117.39             1.687  \n",
       "2    -122.98             1.621  \n",
       "3    -117.70             2.621  \n",
       "4    -116.93             0.956  "
      ]
     },
     "execution_count": 63,
     "metadata": {},
     "output_type": "execute_result"
    }
   ],
   "source": [
    "pd.read_csv(train_filepaths[0]).head()"
   ]
  },
  {
   "cell_type": "code",
   "execution_count": 64,
   "metadata": {},
   "outputs": [
    {
     "name": "stdout",
     "output_type": "stream",
     "text": [
      "MedInc,HouseAge,AveRooms,AveBedrms,Population,AveOccup,Latitude,Longitude,MedianHouseValue\n",
      "3.5214,15.0,3.0499445061043287,1.106548279689234,1447.0,1.6059933407325193,37.63,-122.43,1.442\n",
      "5.3275,5.0,6.490059642147117,0.9910536779324056,3464.0,3.4433399602385686,33.69,-117.39,1.687\n",
      "3.1,29.0,7.5423728813559325,1.5915254237288134,1328.0,2.2508474576271187,38.44,-122.98,1.621\n",
      "7.1736,12.0,6.289002557544757,0.9974424552429667,1054.0,2.6956521739130435,33.55,-117.7,2.621\n"
     ]
    }
   ],
   "source": [
    "with open(train_filepaths[0]) as f:\r\n",
    "    for i in range(5):\r\n",
    "        print(f.readline(), end = \"\")"
   ]
  },
  {
   "cell_type": "code",
   "execution_count": 65,
   "metadata": {},
   "outputs": [
    {
     "name": "stdout",
     "output_type": "stream",
     "text": [
      "tf.Tensor(b'datasets\\\\housing\\\\my_train_05.csv', shape=(), dtype=string)\n",
      "tf.Tensor(b'datasets\\\\housing\\\\my_train_16.csv', shape=(), dtype=string)\n",
      "tf.Tensor(b'datasets\\\\housing\\\\my_train_01.csv', shape=(), dtype=string)\n",
      "tf.Tensor(b'datasets\\\\housing\\\\my_train_17.csv', shape=(), dtype=string)\n",
      "tf.Tensor(b'datasets\\\\housing\\\\my_train_00.csv', shape=(), dtype=string)\n"
     ]
    }
   ],
   "source": [
    "filepath_dataset = tf.data.Dataset.list_files(train_filepaths, seed = 42)\r\n",
    "for filepath in filepath_dataset.take(5):\r\n",
    "    print(filepath)"
   ]
  },
  {
   "cell_type": "code",
   "execution_count": 66,
   "metadata": {},
   "outputs": [
    {
     "name": "stdout",
     "output_type": "stream",
     "text": [
      "b'4.5909,16.0,5.475877192982456,1.0964912280701755,1357.0,2.9758771929824563,33.63,-117.71,2.418'\n",
      "b'2.4792,24.0,3.4547038327526134,1.1341463414634145,2251.0,3.921602787456446,34.18,-118.38,2.0'\n",
      "b'4.2708,45.0,5.121387283236994,0.953757225433526,492.0,2.8439306358381504,37.48,-122.19,2.67'\n",
      "b'2.1856,41.0,3.7189873417721517,1.0658227848101265,803.0,2.0329113924050635,32.76,-117.12,1.205'\n",
      "b'4.1812,52.0,5.701388888888889,0.9965277777777778,692.0,2.4027777777777777,33.73,-118.31,3.215'\n"
     ]
    }
   ],
   "source": [
    "n_readers = 5\r\n",
    "dataset = filepath_dataset.interleave(\r\n",
    "    lambda filepath: tf.data.TextLineDataset(filepath).skip(1),\r\n",
    "    cycle_length = n_readers)\r\n",
    "for line in dataset.take(5):\r\n",
    "    print(line.numpy())"
   ]
  },
  {
   "cell_type": "code",
   "execution_count": 68,
   "metadata": {},
   "outputs": [
    {
     "data": {
      "text/plain": [
       "(<tf.Tensor: shape=(8,), dtype=float32, numpy=\n",
       " array([ 0.36618188, -0.99870497,  0.00781878, -0.00675364, -0.06140145,\n",
       "         0.0072037 , -0.9446553 ,  0.9367464 ], dtype=float32)>,\n",
       " <tf.Tensor: shape=(1,), dtype=float32, numpy=array([2.418], dtype=float32)>)"
      ]
     },
     "execution_count": 68,
     "metadata": {},
     "output_type": "execute_result"
    }
   ],
   "source": [
    "# Preprocesant\r\n",
    "n_inputs = 8\r\n",
    "\r\n",
    "@tf.function\r\n",
    "def preprocess(line):\r\n",
    "    defs = [0.] * n_inputs + [tf.constant([], dtype = tf.float32)]\r\n",
    "    fields = tf.io.decode_csv(line, record_defaults = defs)\r\n",
    "    x = tf.stack(fields[:-1])\r\n",
    "    y = tf.stack(fields[-1:])\r\n",
    "    return (x - X_mean) / X_std, y\r\n",
    "\r\n",
    "preprocess(b'4.5909,16.0,5.475877192982456,1.0964912280701755,1357.0,2.9758771929824563,33.63,-117.71,2.418')"
   ]
  },
  {
   "cell_type": "code",
   "execution_count": 69,
   "metadata": {},
   "outputs": [],
   "source": [
    "# Ajuntat la lectura + preprocessament:\r\n",
    "def csv_reader_dataset(filepaths, repeat = 1, n_readers = 5, n_read_threads = None, \r\n",
    "                       shuffle_buffer_size = 1000, n_parse_threads = 5, batch_size = 32):\r\n",
    "    dataset = tf.data.Dataset.list_files(filepaths).repeat(repeat)\r\n",
    "    dataset = dataset.interleave(\r\n",
    "        lambda filepath: tf.data.TextLineDataset(filepath).skip(1),\r\n",
    "        cycle_length = n_readers, num_parallel_calls = n_read_threads)\r\n",
    "    dataset = dataset.shuffle(shuffle_buffer_size)\r\n",
    "    dataset = dataset.map(preprocess, num_parallel_calls = n_parse_threads)\r\n",
    "    dataset = dataset.batch(batch_size)\r\n",
    "    return dataset.prefetch(1)"
   ]
  },
  {
   "cell_type": "code",
   "execution_count": 72,
   "metadata": {},
   "outputs": [
    {
     "name": "stdout",
     "output_type": "stream",
     "text": [
      "X = tf.Tensor(\n",
      "[[ 0.5804519  -0.20762321  0.05616303 -0.15191229  0.01343246  0.00604472\n",
      "   1.2525111  -1.3671792 ]\n",
      " [-0.21650054 -0.91959685 -0.37069115 -0.15282531  1.9280853   0.6030511\n",
      "  -0.7338394   0.8018072 ]\n",
      " [-0.37792316 -0.2867314  -0.44674355 -0.02454283  1.0081758  -0.3701026\n",
      "   0.79340184 -1.1822641 ]], shape=(3, 8), dtype=float32)\n",
      "y = tf.Tensor(\n",
      "[[1.752]\n",
      " [1.522]\n",
      " [2.561]], shape=(3, 1), dtype=float32)\n",
      "\n",
      "X = tf.Tensor(\n",
      "[[-1.0393791   0.02970133  0.0704432   0.01656396 -0.14901187  0.2554778\n",
      "   0.69033587 -0.2876847 ]\n",
      " [-0.47738516  0.10880951 -0.23843908 -0.0527132   0.29999155  0.21409526\n",
      "  -0.67293835  0.5919061 ]\n",
      " [ 0.6041258   0.8998913  -0.00953289  0.17155597 -0.63817006  0.05904346\n",
      "  -0.8181658   0.6118972 ]], shape=(3, 8), dtype=float32)\n",
      "y = tf.Tensor(\n",
      "[[0.792]\n",
      " [1.915]\n",
      " [2.319]], shape=(3, 1), dtype=float32)\n",
      "\n"
     ]
    }
   ],
   "source": [
    "tf.random.set_seed(42)\r\n",
    "\r\n",
    "train_set = csv_reader_dataset(train_filepaths, batch_size = 3)\r\n",
    "for X_batch, y_batch in train_set.take(2):\r\n",
    "    print(\"X =\", X_batch)\r\n",
    "    print(\"y =\", y_batch)\r\n",
    "    print()"
   ]
  },
  {
   "cell_type": "code",
   "execution_count": 73,
   "metadata": {},
   "outputs": [],
   "source": [
    "train_set = csv_reader_dataset(train_filepaths, repeat = None)\r\n",
    "valid_set = csv_reader_dataset(valid_filepaths)\r\n",
    "test_set = csv_reader_dataset(test_filepaths)"
   ]
  },
  {
   "cell_type": "code",
   "execution_count": 74,
   "metadata": {},
   "outputs": [],
   "source": [
    "keras.backend.clear_session()\r\n",
    "np.random.seed(42)\r\n",
    "tf.random.set_seed(42)\r\n",
    "\r\n",
    "model = keras.models.Sequential([\r\n",
    "    keras.layers.Dense(30, activation = \"relu\", input_shape = X_train.shape[1:]),\r\n",
    "    keras.layers.Dense(1),\r\n",
    "])"
   ]
  },
  {
   "cell_type": "code",
   "execution_count": 76,
   "metadata": {},
   "outputs": [],
   "source": [
    "model.compile(loss = \"mse\", optimizer = keras.optimizers.SGD(learning_rate = 1e-3))"
   ]
  },
  {
   "cell_type": "code",
   "execution_count": 78,
   "metadata": {},
   "outputs": [
    {
     "name": "stdout",
     "output_type": "stream",
     "text": [
      "Epoch 1/10\n",
      "362/362 [==============================] - 2s 3ms/step - loss: 1.6319 - val_loss: 1.2452\n",
      "Epoch 2/10\n",
      "362/362 [==============================] - 0s 1ms/step - loss: 0.7099 - val_loss: 0.6582\n",
      "Epoch 3/10\n",
      "362/362 [==============================] - 0s 994us/step - loss: 0.6340 - val_loss: 0.5992\n",
      "Epoch 4/10\n",
      "362/362 [==============================] - 0s 1ms/step - loss: 0.5979 - val_loss: 0.5675\n",
      "Epoch 5/10\n",
      "362/362 [==============================] - 0s 1ms/step - loss: 0.5737 - val_loss: 0.5361\n",
      "Epoch 6/10\n",
      "362/362 [==============================] - 0s 1ms/step - loss: 0.5467 - val_loss: 0.5174\n",
      "Epoch 7/10\n",
      "362/362 [==============================] - 0s 1ms/step - loss: 0.5311 - val_loss: 0.5139\n",
      "Epoch 8/10\n",
      "362/362 [==============================] - 0s 1ms/step - loss: 0.5118 - val_loss: 0.4802\n",
      "Epoch 9/10\n",
      "362/362 [==============================] - 0s 1ms/step - loss: 0.4996 - val_loss: 0.4679\n",
      "Epoch 10/10\n",
      "362/362 [==============================] - 0s 938us/step - loss: 0.4865 - val_loss: 0.4590\n"
     ]
    },
    {
     "data": {
      "text/plain": [
       "<tensorflow.python.keras.callbacks.History at 0x2b785496430>"
      ]
     },
     "execution_count": 78,
     "metadata": {},
     "output_type": "execute_result"
    }
   ],
   "source": [
    "batch_size = 32\r\n",
    "model.fit(train_set, steps_per_epoch = len(X_train) // batch_size, epochs = 10, validation_data = valid_set)"
   ]
  },
  {
   "cell_type": "code",
   "execution_count": 81,
   "metadata": {},
   "outputs": [
    {
     "name": "stdout",
     "output_type": "stream",
     "text": [
      "161/161 [==============================] - 0s 1ms/step - loss: 0.4775\n"
     ]
    },
    {
     "data": {
      "text/plain": [
       "0.4774568974971771"
      ]
     },
     "execution_count": 81,
     "metadata": {},
     "output_type": "execute_result"
    }
   ],
   "source": [
    "model.evaluate(test_set, steps = len(X_test) // batch_size)"
   ]
  },
  {
   "cell_type": "code",
   "execution_count": 90,
   "metadata": {},
   "outputs": [
    {
     "data": {
      "text/plain": [
       "array([[3.0935555],\n",
       "       [2.493179 ],\n",
       "       [3.7334828],\n",
       "       ...,\n",
       "       [2.2254663],\n",
       "       [3.3213046],\n",
       "       [4.8779726]], dtype=float32)"
      ]
     },
     "execution_count": 90,
     "metadata": {},
     "output_type": "execute_result"
    }
   ],
   "source": [
    "# Prediccions\r\n",
    "new_set = test_set.map(lambda X, y: X) # tambe es pot pasar test_set, keras ignoraria labels\r\n",
    "X_new = X_test\r\n",
    "model.predict(new_set, steps = len(X_new) // batch_size)"
   ]
  },
  {
   "cell_type": "code",
   "execution_count": 93,
   "metadata": {},
   "outputs": [
    {
     "name": "stdout",
     "output_type": "stream",
     "text": [
      "Global step 1810 / 1810"
     ]
    }
   ],
   "source": [
    "optimizer = keras.optimizers.Nadam(learning_rate = 0.01)\r\n",
    "loss_fn = keras.losses.mean_squared_error\r\n",
    "\r\n",
    "n_epochs = 5\r\n",
    "batch_size = 32\r\n",
    "n_steps_per_epoch = len(X_train) // batch_size\r\n",
    "total_steps = n_epochs * n_steps_per_epoch\r\n",
    "global_step = 0\r\n",
    "for X_batch, y_batch in train_set.take(total_steps):\r\n",
    "    global_step += 1\r\n",
    "    print(\"\\rGlobal step {} / {}\".format(global_step, total_steps), end = \"\")\r\n",
    "    with tf.GradientTape() as tape:\r\n",
    "        y_pred = model(X_batch)\r\n",
    "        main_loss = tf.reduce_mean(loss_fn(y_batch, y_pred))\r\n",
    "        loss = tf.add_n([main_loss] + model.losses)\r\n",
    "    gradients = tape.gradient(loss, model.trainable_variables)\r\n",
    "    optimizer.apply_gradients(zip(gradients, model.trainable_variables))"
   ]
  },
  {
   "cell_type": "code",
   "execution_count": 94,
   "metadata": {},
   "outputs": [],
   "source": [
    "keras.backend.clear_session()\r\n",
    "np.random.seed(42)\r\n",
    "tf.random.set_seed(42)"
   ]
  },
  {
   "cell_type": "markdown",
   "metadata": {},
   "source": [
    "# Capa de Preprocessament desde tf"
   ]
  },
  {
   "cell_type": "code",
   "execution_count": 103,
   "metadata": {},
   "outputs": [],
   "source": [
    "means = np.mean(X_train, axis = 0, keepdims = True)\r\n",
    "stds = np.std(X_train, axis = 0, keepdims = True)\r\n",
    "eps = keras.backend.epsilon()\r\n",
    "model = keras.models.Sequential([\r\n",
    "    keras.layers.Lambda(lambda inputs: (inputs - means) / stds + eps)\r\n",
    "])"
   ]
  },
  {
   "cell_type": "markdown",
   "metadata": {},
   "source": [
    "Si es vol optar per no tenir mitjanes voltant porai:"
   ]
  },
  {
   "cell_type": "code",
   "execution_count": 107,
   "metadata": {},
   "outputs": [],
   "source": [
    "class Standardization(keras.layers.Layer):\r\n",
    "    def adapt(self, data_sample):\r\n",
    "        self.means_ = np.mean(data_sample, axis = 0, keepdims = True)\r\n",
    "        self.stds_ = np.std(data_sample, axis = 0, keepdims = True)\r\n",
    "    def call (self, inputs):\r\n",
    "        return (inputs - self.means_) / (self.stds_ + keras.backend.epsilon())\r\n",
    "\r\n",
    "std_layer = Standardization()\r\n",
    "std_layer.adapt(X_train)"
   ]
  },
  {
   "cell_type": "markdown",
   "metadata": {},
   "source": [
    "# Tensorflow Datasets (TFDS)"
   ]
  },
  {
   "cell_type": "code",
   "execution_count": 118,
   "metadata": {},
   "outputs": [],
   "source": [
    "import tensorflow_datasets as tfds\r\n",
    "\r\n",
    "datasets = tfds.load(name = \"mnist\")\r\n",
    "mnist_train, mnist_test = datasets[\"train\"], datasets[\"test\"]"
   ]
  },
  {
   "cell_type": "code",
   "execution_count": 136,
   "metadata": {},
   "outputs": [],
   "source": [
    "mnist_train = mnist_train.shuffle(10000).batch(1).prefetch(1)"
   ]
  }
 ],
 "metadata": {
  "interpreter": {
   "hash": "240ade2d8f7070515eb92b58feb4182c269d972728a568c5e7f067643896a2b7"
  },
  "kernelspec": {
   "display_name": "Python 3.8.6 64-bit ('.venv': venv)",
   "name": "python3"
  },
  "language_info": {
   "codemirror_mode": {
    "name": "ipython",
    "version": 3
   },
   "file_extension": ".py",
   "mimetype": "text/x-python",
   "name": "python",
   "nbconvert_exporter": "python",
   "pygments_lexer": "ipython3",
   "version": "3.8.6"
  },
  "orig_nbformat": 4
 },
 "nbformat": 4,
 "nbformat_minor": 2
}