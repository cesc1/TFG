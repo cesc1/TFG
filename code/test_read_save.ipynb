{
 "cells": [
  {
   "cell_type": "markdown",
   "metadata": {},
   "source": [
    "# 1. Paquets"
   ]
  },
  {
   "cell_type": "code",
   "execution_count": 1,
   "metadata": {},
   "outputs": [],
   "source": [
    "import os\r\n",
    "import time\r\n",
    "import matplotlib.pyplot as plt\r\n",
    "import numpy as np\r\n",
    "\r\n",
    "import read_save as r_s\r\n",
    "from read_save import LMBD_Image\r\n",
    "\r\n",
    "os.chdir(os.path.normpath(os.getcwd() + \"/..\"))\r\n",
    "#os.chdir(os.path.normpath(os.getcwd() + \"/Github\"))\r\n",
    "folder_path = \"data/by_class/\""
   ]
  },
  {
   "cell_type": "markdown",
   "metadata": {},
   "source": [
    "# 2. Lectura imatges en png i guardarles en lmdb iterativament\r\n",
    "\r\n",
    "Aproximadament unes 2h per llegir totes les imatges en png. Llegir totes les imatges de cop requereix massa memoria així que s'ha obtat per transformar el format iterativament per classe amb png_to_lmdb"
   ]
  },
  {
   "cell_type": "markdown",
   "metadata": {},
   "source": [
    "Primer convertire png a lmdb a vera si funciona"
   ]
  },
  {
   "cell_type": "code",
   "execution_count": 2,
   "metadata": {},
   "outputs": [
    {
     "name": "stdout",
     "output_type": "stream",
     "text": [
      "Class z loaded and saved..."
     ]
    }
   ],
   "source": [
    "r_s.png_to_lmdb(folder_path, \"data/lmdb/\", color = \"bi\", ascii_label = True)\r\n",
    "# images, labels = r_s.read_images_folders(folder_path, color = \"bi\", ascii_label = True) # Per carregar totes"
   ]
  },
  {
   "cell_type": "markdown",
   "metadata": {},
   "source": [
    "# 3. Carregar imatges desde lmdb\r\n",
    "\r\n",
    "Primer carregar les dades, podem carregar només els números per exemple:"
   ]
  },
  {
   "cell_type": "code",
   "execution_count": 3,
   "metadata": {},
   "outputs": [],
   "source": [
    "images, labels = [], []\r\n",
    "\r\n",
    "for i in range(30, 40):\r\n",
    "    img, l = r_s.read_images_lmdb(\"data/lmdb/\", str(i))\r\n",
    "    images.append(img)\r\n",
    "    labels.append(l)\r\n"
   ]
  },
  {
   "cell_type": "markdown",
   "metadata": {},
   "source": [
    "# Testeig de lo carregat"
   ]
  },
  {
   "cell_type": "code",
   "execution_count": 19,
   "metadata": {},
   "outputs": [
    {
     "data": {
      "text/plain": [
       "(344307, 128, 128)"
      ]
     },
     "execution_count": 19,
     "metadata": {},
     "output_type": "execute_result"
    }
   ],
   "source": [
    "num_images = np.concatenate(images, axis = 0)\r\n",
    "labels = np.concatenate(labels)\r\n",
    "num_images.shape"
   ]
  },
  {
   "cell_type": "code",
   "execution_count": 20,
   "metadata": {},
   "outputs": [
    {
     "data": {
      "image/png": "[encoded data removed]",
      "text/plain": [
       "<Figure size 432x288 with 1 Axes>"
      ]
     },
     "metadata": {
      "needs_background": "light"
     },
     "output_type": "display_data"
    },
    {
     "data": {
      "text/plain": [
       "'0'"
      ]
     },
     "execution_count": 20,
     "metadata": {},
     "output_type": "execute_result"
    }
   ],
   "source": [
    "plt.imshow(num_images[61])\r\n",
    "plt.show()\r\n",
    "labels[61]"
   ]
  }
 ],
 "metadata": {
  "interpreter": {
   "hash": "240ade2d8f7070515eb92b58feb4182c269d972728a568c5e7f067643896a2b7"
  },
  "kernelspec": {
   "display_name": "Python 3.8.6 64-bit ('.venv': venv)",
   "name": "python3"
  },
  "language_info": {
   "codemirror_mode": {
    "name": "ipython",
    "version": 3
   },
   "file_extension": ".py",
   "mimetype": "text/x-python",
   "name": "python",
   "nbconvert_exporter": "python",
   "pygments_lexer": "ipython3",
   "version": "3.8.6"
  },
  "orig_nbformat": 4
 },
 "nbformat": 4,
 "nbformat_minor": 2
}