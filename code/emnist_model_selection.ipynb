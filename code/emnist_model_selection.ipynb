{
 "cells": [
  {
   "cell_type": "code",
   "execution_count": 1,
   "source": [
    "import os\r\n",
    "import numpy as np\r\n",
    "#import pandas as pd\r\n",
    "\r\n",
    "%matplotlib inline\r\n",
    "import matplotlib as mpl\r\n",
    "import matplotlib.pyplot as plt\r\n",
    "\r\n",
    "from emnist import list_datasets, extract_training_samples, extract_test_samples\r\n",
    "\r\n",
    "from sklearn.model_selection import train_test_split\r\n",
    "from sklearn.metrics import accuracy_score\r\n",
    "from sklearn.pipeline import make_pipeline\r\n",
    "from sklearn.preprocessing import StandardScaler, MinMaxScaler\r\n",
    "\r\n",
    "def flatten(data, dim_img = (28, 28)):\r\n",
    "    return data.reshape(len(data), dim_img[0] * dim_img[1])\r\n",
    "    \r\n",
    "print(list_datasets())"
   ],
   "outputs": [
    {
     "output_type": "stream",
     "name": "stdout",
     "text": [
      "['balanced', 'byclass', 'bymerge', 'digits', 'letters', 'mnist']\n"
     ]
    }
   ],
   "metadata": {}
  },
  {
   "cell_type": "code",
   "execution_count": 2,
   "source": [
    "tipus = \"balanced\"\r\n",
    "\r\n",
    "X_full_train, y_full_train = extract_training_samples(tipus)\r\n",
    "X_test, y_test = extract_test_samples(tipus)\r\n",
    "X_train, X_val, y_train, y_val = train_test_split(X_full_train, y_full_train, test_size = 0.1, random_state = 123)\r\n",
    "\r\n",
    "X_train_red, y_train_red = flatten(X_train[:10000]), y_train[:10000]"
   ],
   "outputs": [],
   "metadata": {}
  },
  {
   "cell_type": "code",
   "execution_count": 3,
   "source": [
    "from sklearn.decomposition import PCA\r\n",
    "\r\n",
    "pca = PCA(n_components = 0.95) # Les variables son centrades automaticament\r\n",
    "X_train_PCA = pca.fit_transform(flatten(X_train))\r\n",
    "X_val_PCA = pca.transform(flatten(X_val))\r\n",
    "X_train_PCA_red = X_train_PCA[:10000]"
   ],
   "outputs": [],
   "metadata": {}
  },
  {
   "cell_type": "code",
   "execution_count": 103,
   "source": [
    "import time\r\n",
    "\r\n",
    "def model_fit_eval(model, X, y, X_val, y_val):\r\n",
    "    t0 = time.time()\r\n",
    "    model.fit(X, y)\r\n",
    "    t1 = time.time()\r\n",
    "    fit_time = t1 - t0\r\n",
    "    print(\"Accuracy train = {:.2f} % (Train: {:.1f} seconds)\".format(model.score(X, y) * 100, fit_time))\r\n",
    "    t0 = time.time()\r\n",
    "    print(\"Accuracy val = {:.2f} %\".format(model.score(X_val, y_val) * 100), end = \" \")\r\n",
    "    t1 = time.time()\r\n",
    "    pred_time = t1 - t0\r\n",
    "    print(\"(Pred: {:.1f} seconds)\".format(pred_time))\r\n",
    "    return model"
   ],
   "outputs": [],
   "metadata": {}
  },
  {
   "cell_type": "markdown",
   "source": [
    "# Regressió multinomial"
   ],
   "metadata": {}
  },
  {
   "cell_type": "code",
   "execution_count": 114,
   "source": [
    "from sklearn.linear_model import LogisticRegression\r\n",
    "X_train_PCA_red, y_train_red = X_train_PCA[:10000], y_train[:10000]\r\n",
    "\r\n",
    "multinomial_model_PCA = make_pipeline(StandardScaler(), \r\n",
    "                             LogisticRegression(multi_class = 'multinomial', max_iter = 500, tol = 1e-3, solver = \"lbfgs\"))\r\n",
    "multinomial_model_PCA = model_fit_eval(multinomial_model_PCA, X_train_PCA_red, y_train_red, X_val_PCA, y_val)"
   ],
   "outputs": [
    {
     "output_type": "stream",
     "name": "stdout",
     "text": [
      "Accuracy train = 77.02 % (Train: 5.6 seconds)\n",
      "Accuracy val = 63.80 % (Pred: 0.0 seconds)\n"
     ]
    }
   ],
   "metadata": {}
  },
  {
   "cell_type": "markdown",
   "source": [
    "# Lineal SVM\r\n",
    "\r\n",
    "## Amb PCA SGD"
   ],
   "metadata": {}
  },
  {
   "cell_type": "code",
   "execution_count": 106,
   "source": [
    "from sklearn.linear_model import SGDClassifier\r\n",
    "X_train_PCA_red, y_train_red = X_train_PCA[:10000], y_train[:10000]\r\n",
    "\r\n",
    "sgd_model_PCA = make_pipeline(StandardScaler(), \r\n",
    "                    SGDClassifier(loss = 'hinge', alpha = 0.0001, max_iter = 500, tol = 5e-3, random_state = 123))\r\n",
    "sgd_model_PCA = model_fit_eval(sgd_model_PCA, X_train_PCA_red, y_train_red, X_val_PCA, y_val)"
   ],
   "outputs": [
    {
     "output_type": "stream",
     "name": "stdout",
     "text": [
      "Accuracy train = 70.37 % (Train: 5.4 seconds)\n",
      "Accuracy val = 56.69 % (Pred: 0.0 seconds)\n"
     ]
    }
   ],
   "metadata": {}
  },
  {
   "cell_type": "markdown",
   "source": [
    "## Sense PCA SGD"
   ],
   "metadata": {}
  },
  {
   "cell_type": "code",
   "execution_count": 107,
   "source": [
    "X_train_red, y_train_red = flatten(X_train[:10000]), y_train[:10000]\r\n",
    "\r\n",
    "sgd_model = make_pipeline(StandardScaler(), \r\n",
    "                    SGDClassifier(loss = 'hinge', alpha = 0.0001, max_iter = 500, tol = 5e-3, random_state = 123))\r\n",
    "sgd_model.fit(X_train_red, y_train_red)\r\n",
    "sgd_model = model_fit_eval(sgd_model, X_train_red, y_train_red, flatten(X_val), y_val)"
   ],
   "outputs": [
    {
     "output_type": "stream",
     "name": "stdout",
     "text": [
      "Accuracy train = 73.25 % (Train: 41.2 seconds)\n",
      "Accuracy val = 61.80 % (Pred: 0.1 seconds)\n"
     ]
    }
   ],
   "metadata": {}
  },
  {
   "cell_type": "markdown",
   "source": [
    "# SVC \r\n",
    "\r\n",
    "## Amb PCA"
   ],
   "metadata": {}
  },
  {
   "cell_type": "code",
   "execution_count": 108,
   "source": [
    "from sklearn.svm import SVC\r\n",
    "X_train_PCA_red, y_train_red = X_train_PCA[:5000], y_train[:5000]\r\n",
    "\r\n",
    "SVC_model_PCA = make_pipeline(StandardScaler(), \r\n",
    "                    SVC(kernel = 'rbf', gamma = 'scale', C = 1, max_iter = 500, tol = 1e-3, random_state = 123))\r\n",
    "SVC_model_PCA = model_fit_eval(SVC_model_PCA, X_train_PCA_red, y_train_red, X_val_PCA, y_val)"
   ],
   "outputs": [
    {
     "output_type": "stream",
     "name": "stdout",
     "text": [
      "Accuracy train = 94.54 % (Train: 2.9 seconds)\n",
      "Accuracy val = 64.78 % (Pred: 12.1 seconds)\n"
     ]
    }
   ],
   "metadata": {}
  },
  {
   "cell_type": "markdown",
   "source": [
    "## Sense PCA"
   ],
   "metadata": {}
  },
  {
   "cell_type": "code",
   "execution_count": 110,
   "source": [
    "X_train_red, y_train_red = flatten(X_train[:5000]), y_train[:5000]\r\n",
    "SVC_model = make_pipeline(StandardScaler(), \r\n",
    "                    SVC(kernel = 'rbf', gamma = 'scale', C = 1, max_iter = 500, tol = 1e-3, random_state = 123))\r\n",
    "SVC_model = model_fit_eval(SVC_model, X_train_red, y_train_red, flatten(X_val), y_val)"
   ],
   "outputs": [
    {
     "output_type": "stream",
     "name": "stdout",
     "text": [
      "Accuracy train = 89.42 % (Train: 4.8 seconds)\n",
      "Accuracy val = 68.85 % (Pred: 39.6 seconds)\n"
     ]
    }
   ],
   "metadata": {}
  },
  {
   "cell_type": "markdown",
   "source": [
    "# Random Forest\r\n",
    "\r\n",
    "## Amb PCA"
   ],
   "metadata": {}
  },
  {
   "cell_type": "code",
   "execution_count": 111,
   "source": [
    "from sklearn.ensemble import RandomForestClassifier\r\n",
    "X_train_PCA_red, y_train_red = X_train_PCA[:10000], y_train[:10000]\r\n",
    "\r\n",
    "forest_model_PCA = RandomForestClassifier(n_estimators = 100, random_state = 123) # Per regularitzar: max_depth  \r\n",
    "forest_model_PCA = model_fit_eval(forest_model_PCA, X_train_PCA_red, y_train_red, X_val_PCA, y_val)"
   ],
   "outputs": [
    {
     "output_type": "stream",
     "name": "stdout",
     "text": [
      "Accuracy train = 100.00 % (Train: 14.4 seconds)\n",
      "Accuracy val = 66.16 % (Pred: 0.7 seconds)\n"
     ]
    }
   ],
   "metadata": {}
  },
  {
   "cell_type": "markdown",
   "source": [
    "## Sense PCA"
   ],
   "metadata": {}
  },
  {
   "cell_type": "code",
   "execution_count": 112,
   "source": [
    "X_train_red, y_train_red = flatten(X_train[:10000]), y_train[:10000]\r\n",
    "\r\n",
    "forest_model = RandomForestClassifier(n_estimators = 100, random_state = 123)\r\n",
    "forest_model = model_fit_eval(forest_model, X_train_red, y_train_red, flatten(X_val), y_val)"
   ],
   "outputs": [
    {
     "output_type": "stream",
     "name": "stdout",
     "text": [
      "Accuracy train = 100.00 % (Train: 9.5 seconds)\n",
      "Accuracy val = 72.31 % (Pred: 0.7 seconds)\n"
     ]
    }
   ],
   "metadata": {}
  },
  {
   "cell_type": "markdown",
   "source": [
    "# ANN\r\n",
    "\r\n",
    "Parametres a modificar: \r\n",
    "\r\n",
    "1. learning rate (al canviar qualsevol hyperparametre, tornar a learning rate)\r\n",
    "2. optimizer \r\n",
    "3. nombre capes\r\n",
    "4. neurones per capa\r\n",
    "5. funcions d'activació per capa\r\n",
    "6. batch size (fit(batch_size = x))"
   ],
   "metadata": {}
  },
  {
   "cell_type": "markdown",
   "source": [
    "## Sense PCA"
   ],
   "metadata": {}
  },
  {
   "cell_type": "code",
   "execution_count": 3,
   "source": [
    "import tensorflow as tf\r\n",
    "from tensorflow import keras"
   ],
   "outputs": [],
   "metadata": {}
  },
  {
   "cell_type": "code",
   "execution_count": 147,
   "source": [
    "keras.backend.clear_session()\r\n",
    "np.random.seed(123)\r\n",
    "tf.random.set_seed(123)"
   ],
   "outputs": [],
   "metadata": {}
  },
  {
   "cell_type": "code",
   "execution_count": 148,
   "source": [
    "k = len(np.unique(y_train))\r\n",
    "nn_model = keras.models.Sequential([\r\n",
    "    keras.layers.Flatten(input_shape = [28, 28]),\r\n",
    "    keras.layers.Dense(400, activation = \"relu\"),\r\n",
    "    keras.layers.Dense(200, activation = \"relu\"),\r\n",
    "    keras.layers.Dense(100, activation = \"relu\"),\r\n",
    "    keras.layers.Dense(k, activation = \"softmax\")\r\n",
    "])\r\n",
    "nn_model.compile(loss = \"sparse_categorical_crossentropy\", # keras.losses.sparse_categorical_crossentropy\r\n",
    "              optimizer = keras.optimizers.SGD(),\r\n",
    "              metrics = [\"accuracy\"])\r\n",
    "\r\n",
    "history = nn_model.fit(X_train / 255, y_train, epochs = 5, validation_data = (X_val / 255, y_val))\r\n",
    "#model.evaluate(X_test, y_test) # al final de tot, no ara"
   ],
   "outputs": [
    {
     "output_type": "stream",
     "name": "stdout",
     "text": [
      "Epoch 1/5\n",
      "3173/3173 [==============================] - 18s 5ms/step - loss: 1.9255 - accuracy: 0.4939 - val_loss: 1.1551 - val_accuracy: 0.6680\n",
      "Epoch 2/5\n",
      "3173/3173 [==============================] - 12s 4ms/step - loss: 1.0191 - accuracy: 0.7035 - val_loss: 0.8808 - val_accuracy: 0.7376\n",
      "Epoch 3/5\n",
      "3173/3173 [==============================] - 11s 3ms/step - loss: 0.8085 - accuracy: 0.7568 - val_loss: 0.7495 - val_accuracy: 0.7692\n",
      "Epoch 4/5\n",
      "3173/3173 [==============================] - 12s 4ms/step - loss: 0.6933 - accuracy: 0.7851 - val_loss: 0.6930 - val_accuracy: 0.7810\n",
      "Epoch 5/5\n",
      "3173/3173 [==============================] - 17s 5ms/step - loss: 0.6206 - accuracy: 0.8032 - val_loss: 0.6243 - val_accuracy: 0.8019\n"
     ]
    }
   ],
   "metadata": {}
  },
  {
   "cell_type": "code",
   "execution_count": 149,
   "source": [
    "keras.utils.plot_model(nn_model, \"nn_estructure.png\", show_shapes = True)"
   ],
   "outputs": [
    {
     "output_type": "execute_result",
     "data": {
      "text/plain": [
       "<IPython.core.display.Image object>"
      ],
      "image/png": "[encoded data removed]"
     },
     "metadata": {},
     "execution_count": 149
    }
   ],
   "metadata": {}
  },
  {
   "cell_type": "markdown",
   "source": [
    "## Amb PCA"
   ],
   "metadata": {}
  },
  {
   "cell_type": "code",
   "execution_count": 4,
   "source": [
    "keras.backend.clear_session()\r\n",
    "np.random.seed(123)\r\n",
    "tf.random.set_seed(123)"
   ],
   "outputs": [],
   "metadata": {}
  },
  {
   "cell_type": "code",
   "execution_count": null,
   "source": [
    "scaler = MinMaxScaler()\r\n",
    "X_train_PCA_N = scaler.fit_transform(X_train_PCA)\r\n",
    "X_val_PCA_N = scaler.fit_transform(X_val_PCA)"
   ],
   "outputs": [],
   "metadata": {}
  },
  {
   "cell_type": "code",
   "execution_count": 129,
   "source": [
    "k = len(np.unique(y_train))\r\n",
    "nn_model_PCA = keras.models.Sequential([\r\n",
    "    keras.layers.InputLayer(input_shape = X_train_PCA.shape[1:]),\r\n",
    "    keras.layers.Dense(400, activation = \"relu\"),\r\n",
    "    keras.layers.Dense(200, activation = \"relu\"),\r\n",
    "    keras.layers.Dense(100, activation = \"relu\"),\r\n",
    "    keras.layers.Dense(k, activation = \"softmax\")\r\n",
    "])\r\n",
    "nn_model_PCA.compile(loss = \"sparse_categorical_crossentropy\", # keras.losses.sparse_categorical_crossentropy\r\n",
    "              optimizer = keras.optimizers.SGD(),\r\n",
    "              metrics = [\"accuracy\"])\r\n",
    "\r\n",
    "\r\n",
    "history = nn_model_PCA.fit(X_train_PCA_N, y_train, epochs = 5, validation_data = (X_val_PCA_N, y_val))"
   ],
   "outputs": [
    {
     "output_type": "stream",
     "name": "stdout",
     "text": [
      "Epoch 1/5\n",
      "3173/3173 [==============================] - 4s 1ms/step - loss: 3.7996 - accuracy: 0.0839 - val_loss: 3.7077 - val_accuracy: 0.1303\n",
      "Epoch 2/5\n",
      "3173/3173 [==============================] - 4s 1ms/step - loss: 3.1794 - accuracy: 0.2293 - val_loss: 2.4980 - val_accuracy: 0.3303\n",
      "Epoch 3/5\n",
      "3173/3173 [==============================] - 4s 1ms/step - loss: 2.1026 - accuracy: 0.4286 - val_loss: 1.8080 - val_accuracy: 0.4907\n",
      "Epoch 4/5\n",
      "3173/3173 [==============================] - 4s 1ms/step - loss: 1.6295 - accuracy: 0.5421 - val_loss: 1.5746 - val_accuracy: 0.5497\n",
      "Epoch 5/5\n",
      "3173/3173 [==============================] - 4s 1ms/step - loss: 1.4278 - accuracy: 0.5934 - val_loss: 1.5090 - val_accuracy: 0.5541\n"
     ]
    }
   ],
   "metadata": {}
  },
  {
   "cell_type": "markdown",
   "source": [
    "# CNN"
   ],
   "metadata": {}
  },
  {
   "cell_type": "code",
   "execution_count": 6,
   "source": [
    "keras.backend.clear_session()\r\n",
    "np.random.seed(123)\r\n",
    "tf.random.set_seed(123)"
   ],
   "outputs": [],
   "metadata": {}
  },
  {
   "cell_type": "code",
   "execution_count": 7,
   "source": [
    "X_train = X_train[..., np.newaxis] / 255\r\n",
    "X_val = X_val[..., np.newaxis] / 255\r\n",
    "X_test = X_test[..., np.newaxis] / 255"
   ],
   "outputs": [],
   "metadata": {}
  },
  {
   "cell_type": "code",
   "execution_count": 8,
   "source": [
    "k = len(np.unique(y_train))\r\n",
    "cnn_model = keras.models.Sequential([\r\n",
    "    keras.layers.Conv2D(32, kernel_size = 3, padding = \"same\", activation = \"relu\"),\r\n",
    "    keras.layers.Conv2D(64, kernel_size = 3, padding = \"same\", activation = \"relu\"),\r\n",
    "    keras.layers.MaxPool2D(),\r\n",
    "    keras.layers.Flatten(),\r\n",
    "    keras.layers.Dropout(0.25),\r\n",
    "    keras.layers.Dense(128, activation = \"relu\"),\r\n",
    "    keras.layers.Dropout(0.5),\r\n",
    "    keras.layers.Dense(k, activation = \"softmax\")\r\n",
    "])\r\n",
    "cnn_model.compile(loss = \"sparse_categorical_crossentropy\", optimizer = \"nadam\", metrics = [\"accuracy\"])\r\n",
    "cnn_model.fit(X_train[:10000], y_train[:10000], epochs = 5, validation_data = (X_val, y_val))\r\n",
    "#cnn_model.evaluate(X_test, y_test)"
   ],
   "outputs": [
    {
     "output_type": "stream",
     "name": "stdout",
     "text": [
      "Epoch 1/5\n",
      "313/313 [==============================] - 47s 142ms/step - loss: 2.2727 - accuracy: 0.3791 - val_loss: 1.0098 - val_accuracy: 0.7030\n",
      "Epoch 2/5\n",
      "313/313 [==============================] - 45s 144ms/step - loss: 1.2678 - accuracy: 0.6213 - val_loss: 0.7363 - val_accuracy: 0.7735\n",
      "Epoch 3/5\n",
      "313/313 [==============================] - 38s 123ms/step - loss: 1.0050 - accuracy: 0.6883 - val_loss: 0.6639 - val_accuracy: 0.7923\n",
      "Epoch 4/5\n",
      "313/313 [==============================] - 42s 134ms/step - loss: 0.8857 - accuracy: 0.7180 - val_loss: 0.6199 - val_accuracy: 0.7987\n",
      "Epoch 5/5\n",
      "313/313 [==============================] - 37s 119ms/step - loss: 0.7809 - accuracy: 0.7363 - val_loss: 0.5876 - val_accuracy: 0.8120\n"
     ]
    },
    {
     "output_type": "execute_result",
     "data": {
      "text/plain": [
       "<tensorflow.python.keras.callbacks.History at 0x251756f0a60>"
      ]
     },
     "metadata": {},
     "execution_count": 8
    }
   ],
   "metadata": {}
  },
  {
   "cell_type": "code",
   "execution_count": 9,
   "source": [
    "cnn_model.summary()"
   ],
   "outputs": [
    {
     "output_type": "stream",
     "name": "stdout",
     "text": [
      "Model: \"sequential\"\n",
      "_________________________________________________________________\n",
      "Layer (type)                 Output Shape              Param #   \n",
      "=================================================================\n",
      "conv2d (Conv2D)              (None, 28, 28, 32)        320       \n",
      "_________________________________________________________________\n",
      "conv2d_1 (Conv2D)            (None, 28, 28, 64)        18496     \n",
      "_________________________________________________________________\n",
      "max_pooling2d (MaxPooling2D) (None, 14, 14, 64)        0         \n",
      "_________________________________________________________________\n",
      "flatten (Flatten)            (None, 12544)             0         \n",
      "_________________________________________________________________\n",
      "dropout (Dropout)            (None, 12544)             0         \n",
      "_________________________________________________________________\n",
      "dense (Dense)                (None, 128)               1605760   \n",
      "_________________________________________________________________\n",
      "dropout_1 (Dropout)          (None, 128)               0         \n",
      "_________________________________________________________________\n",
      "dense_1 (Dense)              (None, 47)                6063      \n",
      "=================================================================\n",
      "Total params: 1,630,639\n",
      "Trainable params: 1,630,639\n",
      "Non-trainable params: 0\n",
      "_________________________________________________________________\n"
     ]
    }
   ],
   "metadata": {}
  }
 ],
 "metadata": {
  "orig_nbformat": 4,
  "language_info": {
   "name": "python",
   "version": "3.8.6",
   "mimetype": "text/x-python",
   "codemirror_mode": {
    "name": "ipython",
    "version": 3
   },
   "pygments_lexer": "ipython3",
   "nbconvert_exporter": "python",
   "file_extension": ".py"
  },
  "kernelspec": {
   "name": "python3",
   "display_name": "Python 3.8.6 64-bit ('.venv': venv)"
  },
  "interpreter": {
   "hash": "240ade2d8f7070515eb92b58feb4182c269d972728a568c5e7f067643896a2b7"
  }
 },
 "nbformat": 4,
 "nbformat_minor": 2
}