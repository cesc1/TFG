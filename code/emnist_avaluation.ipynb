{
 "cells": [
  {
   "cell_type": "code",
   "execution_count": 2,
   "source": [
    "import os\r\n",
    "import numpy as np\r\n",
    "import pandas as pd\r\n",
    "\r\n",
    "%matplotlib inline\r\n",
    "import matplotlib as mpl\r\n",
    "import matplotlib.pyplot as plt\r\n",
    "\r\n",
    "from emnist import list_datasets, extract_training_samples, extract_test_samples\r\n",
    "\r\n",
    "from sklearn.model_selection import train_test_split\r\n",
    "from sklearn.metrics import accuracy_score\r\n",
    "from sklearn.pipeline import make_pipeline\r\n",
    "from sklearn.preprocessing import StandardScaler, MinMaxScaler\r\n",
    "\r\n",
    "import tensorflow as tf\r\n",
    "from tensorflow import keras\r\n",
    "\r\n",
    "def flatten(data, dim_img = (28, 28)):\r\n",
    "    return data.reshape(len(data), dim_img[0] * dim_img[1])\r\n",
    "    \r\n",
    "print(list_datasets())"
   ],
   "outputs": [
    {
     "output_type": "stream",
     "name": "stdout",
     "text": [
      "['balanced', 'byclass', 'bymerge', 'digits', 'letters', 'mnist']\n"
     ]
    }
   ],
   "metadata": {}
  },
  {
   "cell_type": "code",
   "execution_count": 4,
   "source": [
    "tipus = \"balanced\"\r\n",
    "\r\n",
    "X_full_train, y_full_train = extract_training_samples(tipus)\r\n",
    "X_test, y_test = extract_test_samples(tipus)\r\n",
    "X_train, X_val, y_train, y_val = train_test_split(X_full_train, y_full_train, test_size = 0.1, random_state = 123)"
   ],
   "outputs": [],
   "metadata": {}
  },
  {
   "cell_type": "code",
   "execution_count": 5,
   "source": [
    "import joblib\r\n",
    "# save models\r\n",
    "\r\n",
    "SVC_model = joblib.load(\"models/svc_model2.joblib\")\r\n",
    "# RF_model = joblib.load(\"models/RF_model1.joblib\")\r\n",
    "ANN_model = keras.models.load_model(\"models/nn_model.h5\")\r\n",
    "CNN_model = keras.models.load_model(\"models/cnn_model.h5\")"
   ],
   "outputs": [],
   "metadata": {}
  },
  {
   "cell_type": "code",
   "execution_count": 8,
   "source": [
    "print(SVC_model.score(flatten(X_val), y_val))\r\n",
    "print(SVC_model.score(flatten(X_test), y_test))"
   ],
   "outputs": [
    {
     "output_type": "stream",
     "name": "stdout",
     "text": [
      "0.8020390070921986\n",
      "0.798936170212766\n"
     ]
    }
   ],
   "metadata": {}
  },
  {
   "cell_type": "code",
   "execution_count": 10,
   "source": [
    "print(ANN_model.evaluate(X_val / 255, y_val))\r\n",
    "print(ANN_model.evaluate(X_test / 255, y_test))"
   ],
   "outputs": [
    {
     "output_type": "stream",
     "name": "stdout",
     "text": [
      "353/353 [==============================] - 2s 1ms/step - loss: 0.4708 - accuracy: 0.8485\n",
      "[0.4707845449447632, 0.8484929203987122]\n",
      "588/588 [==============================] - 1s 2ms/step - loss: 0.4996 - accuracy: 0.8395\n",
      "[0.4996272921562195, 0.8394680619239807]\n"
     ]
    }
   ],
   "metadata": {}
  },
  {
   "cell_type": "code",
   "execution_count": 11,
   "source": [
    "print(CNN_model.evaluate(X_val[..., np.newaxis] / 255, y_val))\r\n",
    "print(CNN_model.evaluate(X_test[..., np.newaxis] / 255, y_test))"
   ],
   "outputs": [
    {
     "output_type": "stream",
     "name": "stdout",
     "text": [
      "353/353 [==============================] - 4s 11ms/step - loss: 0.3361 - accuracy: 0.8805\n",
      "[0.33608120679855347, 0.8804964423179626]\n",
      "588/588 [==============================] - 7s 11ms/step - loss: 0.3715 - accuracy: 0.8745\n",
      "[0.37146854400634766, 0.8744680881500244]\n"
     ]
    }
   ],
   "metadata": {}
  },
  {
   "cell_type": "code",
   "execution_count": null,
   "source": [
    "def label_to_letter(label, tipus = \"byclass\"):\r\n",
    "    if tipus == \"byclass\" or tipus == \"mnist\" or tipus == \"digits\":        \r\n",
    "        if label >= 0 and label <= 9:\r\n",
    "            return label\r\n",
    "        elif label >= 10 and label <= 35:\r\n",
    "            return chr(label + 55)\r\n",
    "        elif label >= 36 and label <= 61:\r\n",
    "            return chr(label + 61)\r\n",
    "        else:\r\n",
    "            raise ValueError(\"Label '{}' fora dels limits\".format(label))\r\n",
    "\r\n",
    "    elif tipus == \"bymerge\" or tipus == \"balanced\":\r\n",
    "        bymerge_dic = [\r\n",
    "            \"0\", \"1\", \"2\", \"3\", \"4\", \"5\", \"6\", \"7\", \"8\", \"9\", \r\n",
    "            \"A\", \"B\", \"C/c\", \"D\", \"E\", \"F\", \"G\", \"H\", \"I/i\", \"J/j\", \r\n",
    "            \"K/k\", \"L/l\", \"M/m\", \"N\", \"O/o\", \"P/p\", \"Q\", \"R\", \"S/s\", \"T\", \r\n",
    "            \"U/u\", \"V/v\", \"W/w\", \"X/x\", \"Y/y\", \"Z/z\", \"a\", \"b\", \"d\", \"e\", \r\n",
    "            \"f\", \"g\", \"h\", \"n\", \"q\", \"r\", \"t\"]\r\n",
    "        return bymerge_dic[label]\r\n",
    "\r\n",
    "    elif tipus == \"letters\":\r\n",
    "        return chr(label + 55 + 10 - 1)\r\n",
    "\r\n",
    "label_to_letter(1)"
   ],
   "outputs": [],
   "metadata": {}
  },
  {
   "cell_type": "code",
   "execution_count": 15,
   "source": [
    "y_pred = ANN_model.predict(X_val, ) "
   ],
   "outputs": [],
   "metadata": {}
  },
  {
   "cell_type": "code",
   "execution_count": null,
   "source": [
    "[\"0\", \"1\", \"2\", \"3\", \"4\", \"5\", \"6\", \"7\", \"8\", \"9\", \r\n",
    "\"A\", \"B\", \"C/c\", \"D\", \"E\", \"F\", \"G\", \"H\", \"I/i\", \"J/j\", \r\n",
    "\"K/k\", \"L/l\", \"M/m\", \"N\", \"O/o\", \"P/p\", \"Q\", \"R\", \"S/s\", \"T\", \r\n",
    "\"U/u\", \"V/v\", \"W/w\", \"X/x\", \"Y/y\", \"Z/z\", \"a\", \"b\", \"d\", \"e\", \r\n",
    "\"f\", \"g\", \"h\", \"n\", \"q\", \"r\", \"t\"]"
   ],
   "outputs": [],
   "metadata": {}
  },
  {
   "cell_type": "code",
   "execution_count": 16,
   "source": [
    "y_pred.shape"
   ],
   "outputs": [
    {
     "output_type": "execute_result",
     "data": {
      "text/plain": [
       "(11280, 47)"
      ]
     },
     "metadata": {},
     "execution_count": 16
    }
   ],
   "metadata": {}
  },
  {
   "cell_type": "code",
   "execution_count": null,
   "source": [
    "def plot_conf(matrix, figsize = (16, 16)):\r\n",
    "    fig = plt.figure(figsize = figsize)\r\n",
    "    ax = fig.add_subplot(111)\r\n",
    "    cax = ax.matshow(matrix)\r\n",
    "    fig.colorbar(cax)\r\n",
    "\r\n",
    "row_sums = conf_matrx.sum(axis = 1, keepdims = True)\r\n",
    "norm_conf_matrx = conf_matrx / row_sums\r\n",
    "np.fill_diagonal(norm_conf_matrx, 0)\r\n",
    "plot_conf(norm_conf_matrx)"
   ],
   "outputs": [],
   "metadata": {}
  }
 ],
 "metadata": {
  "orig_nbformat": 4,
  "language_info": {
   "name": "python",
   "version": "3.8.6",
   "mimetype": "text/x-python",
   "codemirror_mode": {
    "name": "ipython",
    "version": 3
   },
   "pygments_lexer": "ipython3",
   "nbconvert_exporter": "python",
   "file_extension": ".py"
  },
  "kernelspec": {
   "name": "python3",
   "display_name": "Python 3.8.6 64-bit ('.venv': venv)"
  },
  "interpreter": {
   "hash": "240ade2d8f7070515eb92b58feb4182c269d972728a568c5e7f067643896a2b7"
  }
 },
 "nbformat": 4,
 "nbformat_minor": 2
}