{
 "cells": [
  {
   "cell_type": "code",
   "execution_count": 1,
   "source": [
    "import os\r\n",
    "import numpy as np\r\n",
    "import pandas as pd\r\n",
    "\r\n",
    "%matplotlib inline\r\n",
    "import matplotlib as mpl\r\n",
    "import matplotlib.pyplot as plt\r\n",
    "\r\n",
    "from emnist import list_datasets, extract_training_samples, extract_test_samples\r\n",
    "\r\n",
    "from sklearn.model_selection import train_test_split\r\n",
    "from sklearn.metrics import accuracy_score\r\n",
    "from sklearn.pipeline import make_pipeline\r\n",
    "from sklearn.preprocessing import StandardScaler, MinMaxScaler\r\n",
    "from sklearn.model_selection import RandomizedSearchCV, GridSearchCV\r\n",
    "from scipy.stats import reciprocal, uniform, randint\r\n",
    "\r\n",
    "def flatten(data, dim_img = (28, 28)):\r\n",
    "    return data.reshape(len(data), dim_img[0] * dim_img[1])\r\n",
    "    \r\n",
    "print(list_datasets())"
   ],
   "outputs": [
    {
     "output_type": "stream",
     "name": "stdout",
     "text": [
      "['balanced', 'byclass', 'bymerge', 'digits', 'letters', 'mnist']\n"
     ]
    }
   ],
   "metadata": {}
  },
  {
   "cell_type": "code",
   "execution_count": 2,
   "source": [
    "tipus = \"balanced\"\r\n",
    "\r\n",
    "X_full_train, y_full_train = extract_training_samples(tipus)\r\n",
    "X_test, y_test = extract_test_samples(tipus)\r\n",
    "X_train, X_val, y_train, y_val = train_test_split(X_full_train, y_full_train, test_size = 0.1, random_state = 123)\r\n",
    "\r\n",
    "# X_train_red, y_train_red = flatten(X_train[:10000]), y_train[:10000]"
   ],
   "outputs": [],
   "metadata": {}
  },
  {
   "cell_type": "markdown",
   "source": [
    "# SVM C\r\n",
    "\r\n",
    "1. gridsearch: param_dist = {\"svc__gamma\" : uniform(1e-6, 0.01), \"svc__C\" : uniform(0.1, 15)} # n_iter = 30, n_mostra = 3000\r\n",
    "2. gridsearch: param_dist = {\"svc__gamma\" : reciprocal(1e-6, 1e-3), \"svc__C\" : uniform(1, 15)} # n_iter = 30, n_mostra = 4000\r\n",
    "3. gridsearch: param_dist = {\"svc__gamma\" : reciprocal(1e-4, 1e-3), \"svc__C\" : uniform(2, 12)} # n_iter = 20, n_mostra = 5000\r\n",
    "4. gridsearch: param_dist = {\"svc__gamma\" : reciprocal(0.00075, 0.00125), \"svc__C\" : uniform(3, 9)} # n_iter = 15, n_mostra = 5000"
   ],
   "metadata": {}
  },
  {
   "cell_type": "code",
   "execution_count": 78,
   "source": [
    "from sklearn.svm import SVC\r\n",
    "\r\n",
    "X_train_red, y_train_red = flatten(X_train[12000:17000]), y_train[12000:17000] # agafem mostres diferents per cada tanda\r\n",
    "\r\n",
    "param_dist = {\"svc__gamma\" : reciprocal(0.00075, 0.003), \"svc__C\" : uniform(3, 9)}\r\n",
    "SVC_rs = make_pipeline(StandardScaler(), SVC(kernel = 'rbf'))\r\n",
    "\r\n",
    "rsCV_SVC = RandomizedSearchCV(SVC_rs, param_dist, n_iter = 15, verbose = 1, cv = 3)\r\n",
    "rsCV_SVC.fit(X_train_red, y_train_red)\r\n",
    "cvData = pd.DataFrame(rsCV_SVC.cv_results_)"
   ],
   "outputs": [
    {
     "output_type": "stream",
     "name": "stdout",
     "text": [
      "Fitting 3 folds for each of 15 candidates, totalling 45 fits\n"
     ]
    }
   ],
   "metadata": {}
  },
  {
   "cell_type": "code",
   "execution_count": 91,
   "source": [
    "plt.figure(figsize = (2 * 7, 1 * 7))\r\n",
    "plt.subplot(1, 2, 1)\r\n",
    "plt.plot(cvData[\"param_svc__C\"], cvData[\"mean_test_score\"], linestyle = \"\", marker = 'o', color = \"g\")\r\n",
    "plt.xlabel(\"C\")\r\n",
    "plt.ylabel(\"Acc\")\r\n",
    "plt.subplot(1, 2, 2)\r\n",
    "plt.plot(cvData[\"param_svc__gamma\"], cvData[\"mean_test_score\"], linestyle = \"\", marker = 'o', color = \"y\")\r\n",
    "plt.xlabel(\"log gamma\")\r\n",
    "plt.ylabel(\"Acc\")\r\n",
    "plt.xscale(\"log\")\r\n",
    "fig = plt.gcf()\r\n",
    "fig.suptitle(\"SVC quart afinament d'hyperparàmetres\", fontsize = 16)\r\n",
    "plt.show()"
   ],
   "outputs": [
    {
     "output_type": "display_data",
     "data": {
      "text/plain": [
       "<Figure size 1008x504 with 2 Axes>"
      ],
      "image/png": "[encoded data removed]"
     },
     "metadata": {
      "needs_background": "light"
     }
    }
   ],
   "metadata": {}
  },
  {
   "cell_type": "markdown",
   "source": [
    "## Millor model"
   ],
   "metadata": {}
  },
  {
   "cell_type": "code",
   "execution_count": 83,
   "source": [
    "print(rsCV_SVC.best_estimator_)\r\n",
    "print(rsCV_SVC.best_score_)\r\n",
    "# rsCV_SVC.best_estimator_.fit(X_train, y_train)"
   ],
   "outputs": [
    {
     "output_type": "stream",
     "name": "stdout",
     "text": [
      "Pipeline(steps=[('standardscaler', StandardScaler()),\n",
      "                ('svc', SVC(C=6.960189903709831, gamma=0.0011532078895434917))])\n",
      "0.674800334050837\n"
     ]
    }
   ],
   "metadata": {}
  },
  {
   "cell_type": "code",
   "execution_count": 85,
   "source": [
    "SVC_model = make_pipeline(StandardScaler(), \r\n",
    "                       SVC(kernel = 'rbf', gamma = 0.00115, C = 7, max_iter = 500))\r\n",
    "SVC_model.fit(flatten(X_train), y_train)"
   ],
   "outputs": [
    {
     "output_type": "stream",
     "name": "stderr",
     "text": [
      "d:\\Estudi\\Uni\\Actual\\TFG\\Github\\.venv\\lib\\site-packages\\sklearn\\svm\\_base.py:255: ConvergenceWarning: Solver terminated early (max_iter=500).  Consider pre-processing your data with StandardScaler or MinMaxScaler.\n",
      "  warnings.warn('Solver terminated early (max_iter=%i).'\n"
     ]
    },
    {
     "output_type": "execute_result",
     "data": {
      "text/plain": [
       "Pipeline(steps=[('standardscaler', StandardScaler()),\n",
       "                ('svc', SVC(C=7, gamma=0.00115, max_iter=500))])"
      ]
     },
     "metadata": {},
     "execution_count": 85
    }
   ],
   "metadata": {}
  },
  {
   "cell_type": "code",
   "execution_count": 86,
   "source": [
    "y_predict = SVC_model.predict(flatten(X_val))\r\n",
    "accuracy_score(y_val, y_predict)"
   ],
   "outputs": [
    {
     "output_type": "execute_result",
     "data": {
      "text/plain": [
       "0.7995567375886525"
      ]
     },
     "metadata": {},
     "execution_count": 86
    }
   ],
   "metadata": {}
  },
  {
   "cell_type": "code",
   "execution_count": 89,
   "source": [
    "y_predict_train = SVC_model.predict(flatten(X_train[-10000:]))\r\n",
    "accuracy_score(y_train[-10000:], y_predict_train)"
   ],
   "outputs": [
    {
     "output_type": "execute_result",
     "data": {
      "text/plain": [
       "0.8941"
      ]
     },
     "metadata": {},
     "execution_count": 89
    }
   ],
   "metadata": {}
  },
  {
   "cell_type": "code",
   "execution_count": 90,
   "source": [
    "# Reducció de C per veure si es generalitza millor\r\n",
    "SVC_model2 = make_pipeline(StandardScaler(), \r\n",
    "                       SVC(kernel = 'rbf', gamma = 0.00115, C = 3, max_iter = 500))\r\n",
    "SVC_model2.fit(flatten(X_train), y_train)\r\n",
    "\r\n",
    "y_predict = SVC_model2.predict(flatten(X_val))\r\n",
    "y_predict_train = SVC_model2.predict(flatten(X_train[-10000:]))\r\n",
    "print(accuracy_score(y_val, y_predict))\r\n",
    "print(accuracy_score(y_train[-10000:], y_predict_train))"
   ],
   "outputs": [
    {
     "output_type": "stream",
     "name": "stderr",
     "text": [
      "d:\\Estudi\\Uni\\Actual\\TFG\\Github\\.venv\\lib\\site-packages\\sklearn\\svm\\_base.py:255: ConvergenceWarning: Solver terminated early (max_iter=500).  Consider pre-processing your data with StandardScaler or MinMaxScaler.\n",
      "  warnings.warn('Solver terminated early (max_iter=%i).'\n"
     ]
    },
    {
     "output_type": "stream",
     "name": "stdout",
     "text": [
      "0.8020390070921986\n",
      "0.8791\n"
     ]
    }
   ],
   "metadata": {}
  },
  {
   "cell_type": "code",
   "execution_count": 96,
   "source": [
    "import joblib\r\n",
    "# save models\r\n",
    "\r\n",
    "joblib.dump(SVC_model, \"models/svc_model1.joblib\")\r\n",
    "joblib.dump(SVC_model2, \"models/svc_model2.joblib\")\r\n",
    "joblib.dump(rsCV_SVC, \"models/randomSearch_SVC.joblib\")"
   ],
   "outputs": [
    {
     "output_type": "execute_result",
     "data": {
      "text/plain": [
       "['models/randomSearch_SVC.joblib']"
      ]
     },
     "metadata": {},
     "execution_count": 96
    }
   ],
   "metadata": {}
  },
  {
   "cell_type": "markdown",
   "source": [
    "# Random Forest C\r\n",
    "\r\n",
    "Hyperparàmetres possibles dels arbres a estimar:\r\n",
    "- *n_estimators: nombre de trees en forest \r\n",
    "- *max_features: nombre de variables a considerar per la millor partició\r\n",
    "- max_depth: nombre màxim de nivells per cada arbre\r\n",
    "- min_samples_split: nombre minim de dades en un node abans de fer partició\r\n",
    "- min_samples_leaf: nombre mínim de dades en un node (fulla)\r\n",
    "- bootstrap: replacement o no.\r\n",
    "\r\n",
    "1. param_dist = {'n_estimators': randint(100, 1000 + 1),\r\n",
    "              'max_depth': list(np.append(None, np.linspace(start = 10, stop = 100, num = 5).astype(int))),\r\n",
    "              'min_samples_split': randint(2, 10 + 1),\r\n",
    "              'min_samples_leaf': randint(1, 4 + 1),\r\n",
    "              'bootstrap': [True, False]} # n = 5000, n_iter = 100, t = 1,480s\r\n",
    "\r\n",
    "2. param_dist = {'n_estimators': randint(200, 1500 + 1),\r\n",
    "              'max_depth': list(np.append(None, np.linspace(start = 50, stop = 100, num = 5).astype(int))),\r\n",
    "              'min_samples_split': randint(2, 5 + 1),\r\n",
    "              'min_samples_leaf': randint(1, 2 + 1),\r\n",
    "              'bootstrap': [False]} # n = 7000, n_iter = 75, t = 2,965s\r\n",
    "\r\n",
    "3. param_dist = {'n_estimators': randint(1400, 2000 + 1),\r\n",
    "              'max_depth': list(np.linspace(start = 50, stop = 100, num = 6).astype(int)),\r\n",
    "              'min_samples_split': randint(2, 3 + 1)} # n = 8000, n_iter = 50, t = 17,500"
   ],
   "metadata": {}
  },
  {
   "cell_type": "code",
   "execution_count": 301,
   "source": [
    "from sklearn.ensemble import RandomForestClassifier\r\n",
    "\r\n",
    "X_train_red, y_train_red = flatten(X_train[12000:20000]), y_train[12000:20000] # agafem mostres diferents per cada tanda\r\n",
    "\r\n",
    "param_dist = {'n_estimators': randint(1400, 2000 + 1),\r\n",
    "              'max_depth': list(np.linspace(start = 50, stop = 100, num = 6).astype(int)),\r\n",
    "              'min_samples_split': randint(2, 3 + 1)}      \r\n",
    "rf = RandomForestClassifier(bootstrap = False, min_samples_leaf = 1)\r\n",
    "\r\n",
    "rsCV_RF = RandomizedSearchCV(rf, param_dist, n_iter = 50, verbose = 1, cv = 3)\r\n",
    "rsCV_RF.fit(X_train_red, y_train_red)\r\n",
    "cvData = pd.DataFrame(rsCV_RF.cv_results_)"
   ],
   "outputs": [
    {
     "output_type": "stream",
     "name": "stdout",
     "text": [
      "Fitting 3 folds for each of 50 candidates, totalling 150 fits\n"
     ]
    }
   ],
   "metadata": {}
  },
  {
   "cell_type": "code",
   "execution_count": 310,
   "source": [
    "cvData[[\"mean_test_score\", \"param_max_depth\", \"param_min_samples_split\", \"param_n_estimators\"]].sort_values(by = [\"mean_test_score\"], ascending = False).head()"
   ],
   "outputs": [
    {
     "output_type": "execute_result",
     "data": {
      "text/plain": [
       "    mean_test_score param_max_depth param_min_samples_split param_n_estimators\n",
       "10         0.725251              80                       2               1704\n",
       "45         0.725001              80                       3               1944\n",
       "49         0.724376              70                       3               1810\n",
       "31         0.724376              60                       3               1518\n",
       "29         0.724251              60                       2               1657"
      ],
      "text/html": [
       "<div>\n",
       "<style scoped>\n",
       "    .dataframe tbody tr th:only-of-type {\n",
       "        vertical-align: middle;\n",
       "    }\n",
       "\n",
       "    .dataframe tbody tr th {\n",
       "        vertical-align: top;\n",
       "    }\n",
       "\n",
       "    .dataframe thead th {\n",
       "        text-align: right;\n",
       "    }\n",
       "</style>\n",
       "<table border=\"1\" class=\"dataframe\">\n",
       "  <thead>\n",
       "    <tr style=\"text-align: right;\">\n",
       "      <th></th>\n",
       "      <th>mean_test_score</th>\n",
       "      <th>param_max_depth</th>\n",
       "      <th>param_min_samples_split</th>\n",
       "      <th>param_n_estimators</th>\n",
       "    </tr>\n",
       "  </thead>\n",
       "  <tbody>\n",
       "    <tr>\n",
       "      <th>10</th>\n",
       "      <td>0.725251</td>\n",
       "      <td>80</td>\n",
       "      <td>2</td>\n",
       "      <td>1704</td>\n",
       "    </tr>\n",
       "    <tr>\n",
       "      <th>45</th>\n",
       "      <td>0.725001</td>\n",
       "      <td>80</td>\n",
       "      <td>3</td>\n",
       "      <td>1944</td>\n",
       "    </tr>\n",
       "    <tr>\n",
       "      <th>49</th>\n",
       "      <td>0.724376</td>\n",
       "      <td>70</td>\n",
       "      <td>3</td>\n",
       "      <td>1810</td>\n",
       "    </tr>\n",
       "    <tr>\n",
       "      <th>31</th>\n",
       "      <td>0.724376</td>\n",
       "      <td>60</td>\n",
       "      <td>3</td>\n",
       "      <td>1518</td>\n",
       "    </tr>\n",
       "    <tr>\n",
       "      <th>29</th>\n",
       "      <td>0.724251</td>\n",
       "      <td>60</td>\n",
       "      <td>2</td>\n",
       "      <td>1657</td>\n",
       "    </tr>\n",
       "  </tbody>\n",
       "</table>\n",
       "</div>"
      ]
     },
     "metadata": {},
     "execution_count": 310
    }
   ],
   "metadata": {}
  },
  {
   "cell_type": "code",
   "execution_count": 304,
   "source": [
    "def binarize_data(cvData, nom_var):\r\n",
    "    for idx, num in enumerate(cvData[nom_var]):\r\n",
    "        if num is None:\r\n",
    "            cvData[nom_var][idx] = \"None\"\r\n",
    "    new_data = []\r\n",
    "    labels = pd.unique(cvData[nom_var])\r\n",
    "    for clase in labels:\r\n",
    "        new_data.append(cvData[\"mean_test_score\"][cvData[nom_var] == clase])\r\n",
    "    return new_data, labels\r\n",
    "    \r\n",
    "def plot_hyper_RF(cvData, title):\r\n",
    "    plt.figure(figsize = (2 * 6, 2 * 6))\r\n",
    "\r\n",
    "    plt.subplot(2, 2, 1)\r\n",
    "    x, noms = binarize_data(cvData, \"param_max_depth\")\r\n",
    "    plt.boxplot(x)\r\n",
    "    plt.xlabel(\"max_depth\")\r\n",
    "    plt.ylabel(\"Acc\")\r\n",
    "    plt.xticks(np.arange(len(x)) + 1, noms)\r\n",
    "\r\n",
    "    plt.subplot(2, 2, 2)\r\n",
    "    x, noms = binarize_data(cvData, \"param_min_samples_split\")\r\n",
    "    idx = np.argsort(noms)\r\n",
    "    plt.boxplot([x[i] for i in idx])\r\n",
    "    plt.xlabel(\"min_samples_split\")\r\n",
    "    plt.ylabel(\"Acc\")\r\n",
    "    plt.xticks(np.arange(len(x)) + 1, noms[idx])\r\n",
    "\r\n",
    "    plt.subplot(2, 2, 4)\r\n",
    "    plt.plot(cvData[\"param_n_estimators\"], cvData[\"mean_test_score\"], linestyle = \"\", marker = 'o', color = \"y\")\r\n",
    "    plt.xlabel(\"n_estimators\")\r\n",
    "    plt.ylabel(\"Acc\")\r\n",
    "\r\n",
    "    fig = plt.gcf()\r\n",
    "    fig.suptitle(title, fontsize = 18)\r\n",
    "    plt.show()"
   ],
   "outputs": [],
   "metadata": {}
  },
  {
   "cell_type": "code",
   "execution_count": 305,
   "source": [
    "plot_hyper_RF(cvData, title = \"Random Forest: Segon afinament d'hyperparàmetres\")"
   ],
   "outputs": [
    {
     "output_type": "display_data",
     "data": {
      "text/plain": [
       "<Figure size 864x864 with 3 Axes>"
      ],
      "image/png": "[encoded data removed]"
     },
     "metadata": {
      "needs_background": "light"
     }
    }
   ],
   "metadata": {}
  },
  {
   "cell_type": "code",
   "execution_count": 307,
   "source": [
    "rsCV_RF.best_estimator_"
   ],
   "outputs": [
    {
     "output_type": "execute_result",
     "data": {
      "text/plain": [
       "RandomForestClassifier(bootstrap=False, max_depth=80, n_estimators=1704)"
      ]
     },
     "metadata": {},
     "execution_count": 307
    }
   ],
   "metadata": {}
  },
  {
   "cell_type": "markdown",
   "source": [
    "## Millor model"
   ],
   "metadata": {}
  },
  {
   "cell_type": "code",
   "execution_count": 309,
   "source": [
    "print(rsCV_RF.best_estimator_)\r\n",
    "print(rsCV_RF.best_score_)\r\n",
    "# rsCV_RF.best_estimator_.fit(X_train, y_train)"
   ],
   "outputs": [
    {
     "output_type": "stream",
     "name": "stdout",
     "text": [
      "RandomForestClassifier(bootstrap=False, max_depth=80, n_estimators=1704)\n",
      "0.7252511478075743\n"
     ]
    }
   ],
   "metadata": {}
  },
  {
   "cell_type": "code",
   "execution_count": 3,
   "source": [
    "from sklearn.ensemble import RandomForestClassifier\r\n",
    "\r\n",
    "RF_model = RandomForestClassifier(n_estimators = 1000, max_depth = 80, bootstrap = False, min_samples_leaf = 1, min_samples_split = 2, random_state = 123) # Reduir n_estimators (era 1700), massa gran problemes per guardar el, model, no cap memoria ram, i probar bootstrap = True per regularitzar?\r\n",
    "RF_model.fit(flatten(X_train), y_train)"
   ],
   "outputs": [
    {
     "output_type": "execute_result",
     "data": {
      "text/plain": [
       "RandomForestClassifier(bootstrap=False, max_depth=80, n_estimators=1000,\n",
       "                       random_state=123)"
      ]
     },
     "metadata": {},
     "execution_count": 3
    }
   ],
   "metadata": {}
  },
  {
   "cell_type": "code",
   "execution_count": 4,
   "source": [
    "print(RF_model.score(flatten(X_train)[:40000], y_train[:40000]))\r\n",
    "print(RF_model.score(flatten(X_val), y_val))"
   ],
   "outputs": [
    {
     "output_type": "stream",
     "name": "stdout",
     "text": [
      "1.0\n",
      "0.8320035460992907\n"
     ]
    }
   ],
   "metadata": {}
  },
  {
   "cell_type": "code",
   "execution_count": 7,
   "source": [
    "# Model null:\r\n",
    "RF_model2 = RandomForestClassifier(random_state = 123)\r\n",
    "RF_model2.fit(flatten(X_train)[:80000], y_train[:80000]) # s'ha reduït la mostra degut a insuficient memòria\r\n",
    "print(RF_model2.score(flatten(X_val), y_val))"
   ],
   "outputs": [
    {
     "output_type": "stream",
     "name": "stdout",
     "text": [
      "0.8081560283687943\n"
     ]
    }
   ],
   "metadata": {}
  },
  {
   "cell_type": "code",
   "execution_count": 5,
   "source": [
    "import joblib\r\n",
    "# save models\r\n",
    "\r\n",
    "joblib.dump(RF_model, \"models/RF_model1.joblib\")"
   ],
   "outputs": [
    {
     "output_type": "execute_result",
     "data": {
      "text/plain": [
       "['models/RF_model1.joblib']"
      ]
     },
     "metadata": {},
     "execution_count": 5
    }
   ],
   "metadata": {}
  },
  {
   "cell_type": "markdown",
   "source": [
    "# Neural Network"
   ],
   "metadata": {}
  },
  {
   "cell_type": "code",
   "execution_count": 4,
   "source": [
    "import tensorflow as tf\r\n",
    "from tensorflow import keras\r\n"
   ],
   "outputs": [],
   "metadata": {}
  },
  {
   "cell_type": "code",
   "execution_count": 99,
   "source": [
    "keras.backend.clear_session()\r\n",
    "np.random.seed(123)\r\n",
    "tf.random.set_seed(123)"
   ],
   "outputs": [],
   "metadata": {}
  },
  {
   "cell_type": "code",
   "execution_count": 101,
   "source": [
    "k = len(np.unique(y_train))\r\n",
    "nn_model = keras.models.Sequential([\r\n",
    "    keras.layers.Flatten(input_shape = [28, 28]),\r\n",
    "    keras.layers.Dense(400, activation = \"relu\"),\r\n",
    "    keras.layers.Dense(200, activation = \"relu\"),\r\n",
    "    keras.layers.Dense(100, activation = \"relu\"),\r\n",
    "    keras.layers.Dense(k, activation = \"softmax\")\r\n",
    "])\r\n",
    "nn_model.compile(loss = \"sparse_categorical_crossentropy\", # keras.losses.sparse_categorical_crossentropy\r\n",
    "              optimizer = keras.optimizers.SGD(learning_rate = 0.1), # buscat a sota,\r\n",
    "              metrics = [\"accuracy\"])\r\n",
    "\r\n",
    "checkpoint_cb = keras.callbacks.ModelCheckpoint(\"nn_logs/MLP_model1.h5\", save_best_only = True)\r\n",
    "early_stopping_cb = keras.callbacks.EarlyStopping(patience = 20, restore_best_weights = True)"
   ],
   "outputs": [],
   "metadata": {}
  },
  {
   "cell_type": "code",
   "execution_count": 102,
   "source": [
    "history = nn_model.fit(X_train / 255, y_train, epochs = 200, \r\n",
    "                       validation_data = (X_val / 255, y_val),\r\n",
    "                       callbacks = [checkpoint_cb, early_stopping_cb]) # load: model = keras.models.load_model(\"nn_testing.h5\")"
   ],
   "outputs": [
    {
     "output_type": "stream",
     "name": "stdout",
     "text": [
      "Epoch 1/200\n",
      "3173/3173 [==============================] - 8s 3ms/step - loss: 0.9985 - accuracy: 0.6946 - val_loss: 0.6344 - val_accuracy: 0.7855\n",
      "Epoch 2/200\n",
      "3173/3173 [==============================] - 7s 2ms/step - loss: 0.5649 - accuracy: 0.8095 - val_loss: 0.5461 - val_accuracy: 0.8194\n",
      "Epoch 3/200\n",
      "3173/3173 [==============================] - 7s 2ms/step - loss: 0.4741 - accuracy: 0.8350 - val_loss: 0.5088 - val_accuracy: 0.8283\n",
      "Epoch 4/200\n",
      "3173/3173 [==============================] - 8s 2ms/step - loss: 0.4207 - accuracy: 0.8502 - val_loss: 0.4909 - val_accuracy: 0.8364\n",
      "Epoch 5/200\n",
      "3173/3173 [==============================] - 7s 2ms/step - loss: 0.3824 - accuracy: 0.8618 - val_loss: 0.4807 - val_accuracy: 0.8379\n",
      "Epoch 6/200\n",
      "3173/3173 [==============================] - 7s 2ms/step - loss: 0.3525 - accuracy: 0.8697 - val_loss: 0.4934 - val_accuracy: 0.8326\n",
      "Epoch 7/200\n",
      "3173/3173 [==============================] - 7s 2ms/step - loss: 0.3278 - accuracy: 0.8775 - val_loss: 0.4708 - val_accuracy: 0.8485\n",
      "Epoch 8/200\n",
      "3173/3173 [==============================] - 8s 2ms/step - loss: 0.3067 - accuracy: 0.8832 - val_loss: 0.4833 - val_accuracy: 0.8451\n",
      "Epoch 9/200\n",
      "3173/3173 [==============================] - 8s 3ms/step - loss: 0.2922 - accuracy: 0.8874 - val_loss: 0.4944 - val_accuracy: 0.8433\n",
      "Epoch 10/200\n",
      "3173/3173 [==============================] - 7s 2ms/step - loss: 0.2746 - accuracy: 0.8934 - val_loss: 0.5237 - val_accuracy: 0.8370\n",
      "Epoch 11/200\n",
      "3173/3173 [==============================] - 7s 2ms/step - loss: 0.2630 - accuracy: 0.8974 - val_loss: 0.5336 - val_accuracy: 0.8402\n",
      "Epoch 12/200\n",
      "3173/3173 [==============================] - 8s 2ms/step - loss: 0.2468 - accuracy: 0.9015 - val_loss: 0.5084 - val_accuracy: 0.8453\n",
      "Epoch 13/200\n",
      "3173/3173 [==============================] - 7s 2ms/step - loss: 0.2396 - accuracy: 0.9043 - val_loss: 0.5359 - val_accuracy: 0.8437\n",
      "Epoch 14/200\n",
      "3173/3173 [==============================] - 8s 2ms/step - loss: 0.2299 - accuracy: 0.9070 - val_loss: 0.5563 - val_accuracy: 0.8357\n",
      "Epoch 15/200\n",
      "3173/3173 [==============================] - 8s 2ms/step - loss: 0.2215 - accuracy: 0.9107 - val_loss: 0.5708 - val_accuracy: 0.8398\n",
      "Epoch 16/200\n",
      "3173/3173 [==============================] - 7s 2ms/step - loss: 0.2147 - accuracy: 0.9131 - val_loss: 0.5907 - val_accuracy: 0.8384\n",
      "Epoch 17/200\n",
      "3173/3173 [==============================] - 7s 2ms/step - loss: 0.2082 - accuracy: 0.9149 - val_loss: 0.5936 - val_accuracy: 0.8411\n",
      "Epoch 18/200\n",
      "3173/3173 [==============================] - 7s 2ms/step - loss: 0.2047 - accuracy: 0.9159 - val_loss: 0.5953 - val_accuracy: 0.8380\n",
      "Epoch 19/200\n",
      "3173/3173 [==============================] - 8s 2ms/step - loss: 0.2038 - accuracy: 0.9164 - val_loss: 0.6460 - val_accuracy: 0.8392\n",
      "Epoch 20/200\n",
      "3173/3173 [==============================] - 8s 2ms/step - loss: 0.1982 - accuracy: 0.9186 - val_loss: 0.6484 - val_accuracy: 0.8418\n",
      "Epoch 21/200\n",
      "3173/3173 [==============================] - 7s 2ms/step - loss: 0.1951 - accuracy: 0.9204 - val_loss: 0.6243 - val_accuracy: 0.8476\n",
      "Epoch 22/200\n",
      "3173/3173 [==============================] - 8s 2ms/step - loss: 0.1899 - accuracy: 0.9225 - val_loss: 0.6693 - val_accuracy: 0.8395\n",
      "Epoch 23/200\n",
      "3173/3173 [==============================] - 8s 2ms/step - loss: 0.1949 - accuracy: 0.9210 - val_loss: 0.6554 - val_accuracy: 0.8407\n",
      "Epoch 24/200\n",
      "3173/3173 [==============================] - 7s 2ms/step - loss: 0.1864 - accuracy: 0.9247 - val_loss: 0.6969 - val_accuracy: 0.8371\n",
      "Epoch 25/200\n",
      "3173/3173 [==============================] - 7s 2ms/step - loss: 0.1770 - accuracy: 0.9277 - val_loss: 0.7593 - val_accuracy: 0.8325\n",
      "Epoch 26/200\n",
      "3173/3173 [==============================] - 8s 2ms/step - loss: 0.1786 - accuracy: 0.9276 - val_loss: 0.7341 - val_accuracy: 0.8350\n",
      "Epoch 27/200\n",
      "3173/3173 [==============================] - 8s 2ms/step - loss: 0.1817 - accuracy: 0.9270 - val_loss: 0.7635 - val_accuracy: 0.8360\n"
     ]
    }
   ],
   "metadata": {}
  },
  {
   "cell_type": "code",
   "execution_count": 104,
   "source": [
    "best_model = keras.models.load_model(\"nn_logs/MLP_model1.h5\")\r\n",
    "print(\"training: \", best_model.evaluate(X_train / 255, y_train))\r\n",
    "print(\"Valid: \", best_model.evaluate(X_val / 255, y_val))"
   ],
   "outputs": [
    {
     "output_type": "stream",
     "name": "stdout",
     "text": [
      "3173/3173 [==============================] - 5s 1ms/step - loss: 0.2895 - accuracy: 0.8901\n",
      "training:  [0.28951796889305115, 0.8901103138923645]\n",
      "353/353 [==============================] - 1s 1ms/step - loss: 0.4708 - accuracy: 0.8485\n",
      "Valid:  [0.4707845449447632, 0.8484929203987122]\n"
     ]
    }
   ],
   "metadata": {}
  },
  {
   "cell_type": "code",
   "execution_count": 105,
   "source": [
    "best_model.save(\"models/nn_model.h5\")"
   ],
   "outputs": [],
   "metadata": {}
  },
  {
   "cell_type": "code",
   "execution_count": 106,
   "source": [
    "pd.DataFrame(history.history).plot(figsize = (10, 5))\r\n",
    "plt.grid(True)\r\n",
    "plt.show()"
   ],
   "outputs": [
    {
     "output_type": "display_data",
     "data": {
      "text/plain": [
       "<Figure size 720x360 with 1 Axes>"
      ],
      "image/png": "[encoded data removed]"
     },
     "metadata": {
      "needs_background": "light"
     }
    }
   ],
   "metadata": {}
  },
  {
   "cell_type": "markdown",
   "source": [
    "## Check LR"
   ],
   "metadata": {}
  },
  {
   "cell_type": "code",
   "execution_count": 92,
   "source": [
    "keras.backend.clear_session()\r\n",
    "np.random.seed(123)\r\n",
    "tf.random.set_seed(123)"
   ],
   "outputs": [],
   "metadata": {}
  },
  {
   "cell_type": "code",
   "execution_count": 93,
   "source": [
    "K = keras.backend\r\n",
    "\r\n",
    "class ExponentialLearningRate(keras.callbacks.Callback):\r\n",
    "    def __init__(self, factor):\r\n",
    "        self.factor = factor\r\n",
    "        self.rates = []\r\n",
    "        self.losses = []\r\n",
    "    def on_batch_end(self, batch, logs):\r\n",
    "        self.rates.append(K.get_value(self.model.optimizer.learning_rate))\r\n",
    "        self.losses.append(logs[\"loss\"])\r\n",
    "        K.set_value(self.model.optimizer.learning_rate, self.model.optimizer.learning_rate * self.factor)"
   ],
   "outputs": [],
   "metadata": {}
  },
  {
   "cell_type": "code",
   "execution_count": 94,
   "source": [
    "k = len(np.unique(y_train))\r\n",
    "nn_model_lr = keras.models.Sequential([\r\n",
    "    keras.layers.Flatten(input_shape = [28, 28]),\r\n",
    "    keras.layers.Dense(400, activation = \"relu\"),\r\n",
    "    keras.layers.Dense(200, activation = \"relu\"),\r\n",
    "    keras.layers.Dense(100, activation = \"relu\"),\r\n",
    "    keras.layers.Dense(k, activation = \"softmax\")\r\n",
    "])\r\n",
    "nn_model_lr.compile(loss = \"sparse_categorical_crossentropy\", # keras.losses.sparse_categorical_crossentropy\r\n",
    "              optimizer = keras.optimizers.SGD(learning_rate = 1e-3),\r\n",
    "              metrics = [\"accuracy\"])\r\n",
    "expon_lr = ExponentialLearningRate(factor = 1.003)\r\n",
    "history_lr = nn_model_lr.fit(X_train / 255, y_train, epochs = 1,\r\n",
    "                       validation_data = (X_val / 255, y_val),\r\n",
    "                       callbacks = [expon_lr])"
   ],
   "outputs": [
    {
     "output_type": "stream",
     "name": "stdout",
     "text": [
      "3173/3173 [==============================] - 9s 3ms/step - loss: nan - accuracy: 0.2429 - val_loss: nan - val_accuracy: 0.0220\n"
     ]
    }
   ],
   "metadata": {}
  },
  {
   "cell_type": "code",
   "execution_count": 128,
   "source": [
    "nn_model_lr = keras.models.Sequential([\r\n",
    "    keras.layers.Flatten(input_shape = [25, 2]),\r\n",
    "     keras.layers.Dense(30, activation = \"relu\"),\r\n",
    "    keras.layers.Dense(30, activation = \"softmax\")\r\n",
    "])\r\n",
    "nn_model_lr.summary()"
   ],
   "outputs": [
    {
     "output_type": "stream",
     "name": "stdout",
     "text": [
      "Model: \"sequential_4\"\n",
      "_________________________________________________________________\n",
      "Layer (type)                 Output Shape              Param #   \n",
      "=================================================================\n",
      "flatten_4 (Flatten)          (None, 50)                0         \n",
      "_________________________________________________________________\n",
      "dense_6 (Dense)              (None, 30)                1530      \n",
      "_________________________________________________________________\n",
      "dense_7 (Dense)              (None, 30)                930       \n",
      "=================================================================\n",
      "Total params: 2,460\n",
      "Trainable params: 2,460\n",
      "Non-trainable params: 0\n",
      "_________________________________________________________________\n"
     ]
    }
   ],
   "metadata": {}
  },
  {
   "cell_type": "code",
   "execution_count": 97,
   "source": [
    "plt.plot(expon_lr.rates, expon_lr.losses)\r\n",
    "plt.gca().set_xscale('log')\r\n",
    "plt.hlines(min(expon_lr.losses), min(expon_lr.rates), max(expon_lr.rates))\r\n",
    "plt.axis([min(expon_lr.rates), max(expon_lr.rates), 0, expon_lr.losses[0]])\r\n",
    "plt.grid()\r\n",
    "plt.xlabel(\"Learning rate\")\r\n",
    "plt.ylabel(\"Loss\")\r\n",
    "print(expon_lr.rates[np.nanargmin(expon_lr.losses)]) # 0.1 o 1 learning rate"
   ],
   "outputs": [
    {
     "output_type": "stream",
     "name": "stdout",
     "text": [
      "0.90311015\n"
     ]
    },
    {
     "output_type": "display_data",
     "data": {
      "text/plain": [
       "<Figure size 432x288 with 1 Axes>"
      ],
      "image/png": "[encoded data removed]"
     },
     "metadata": {
      "needs_background": "light"
     }
    }
   ],
   "metadata": {}
  },
  {
   "cell_type": "markdown",
   "source": [
    "# CNN\r\n",
    "\r\n",
    "Probar la CNN proposada per MNIST en https://github.com/ageron/handson-ml2/blob/master/14_deep_computer_vision_with_cnns.ipynb\r\n"
   ],
   "metadata": {}
  },
  {
   "cell_type": "code",
   "execution_count": 161,
   "source": [
    "keras.backend.clear_session()\r\n",
    "np.random.seed(42)\r\n",
    "tf.random.set_seed(42)"
   ],
   "outputs": [],
   "metadata": {}
  },
  {
   "cell_type": "code",
   "execution_count": 114,
   "source": [
    "X_train_C = X_train[..., np.newaxis] / 255\r\n",
    "X_val_C = X_val[..., np.newaxis] / 255\r\n",
    "X_test_C = X_test[..., np.newaxis] / 255"
   ],
   "outputs": [],
   "metadata": {}
  },
  {
   "cell_type": "code",
   "execution_count": 119,
   "source": [
    "model = keras.models.Sequential([\r\n",
    "    keras.layers.Conv2D(32, kernel_size=3, padding=\"same\", activation=\"relu\"),\r\n",
    "    keras.layers.Conv2D(64, kernel_size=3, padding=\"same\", activation=\"relu\"),\r\n",
    "    keras.layers.MaxPool2D(),\r\n",
    "    keras.layers.Flatten(),\r\n",
    "    keras.layers.Dropout(0.25),\r\n",
    "    keras.layers.Dense(128, activation=\"relu\"),\r\n",
    "    keras.layers.Dropout(0.5),\r\n",
    "    keras.layers.Dense(47, activation=\"softmax\")\r\n",
    "])\r\n",
    "\r\n",
    "checkpoint_cb = keras.callbacks.ModelCheckpoint(\"cnn_logs/CNN_model1.h5\", save_best_only = True)\r\n",
    "early_stopping_cb = keras.callbacks.EarlyStopping(patience = 3, restore_best_weights = True)\r\n",
    "\r\n",
    "model.compile(loss=\"sparse_categorical_crossentropy\", optimizer=\"nadam\",\r\n",
    "              metrics=[\"accuracy\"])\r\n",
    "history = model.fit(X_train_C, y_train, epochs=30, validation_data=(X_val_C, y_val), callbacks = [early_stopping_cb, checkpoint_cb])\r\n",
    "# model.evaluate(X_test_C, y_test)"
   ],
   "outputs": [
    {
     "output_type": "stream",
     "name": "stdout",
     "text": [
      "Epoch 1/30\n",
      "3173/3173 [==============================] - 224s 70ms/step - loss: 1.0455 - accuracy: 0.6818 - val_loss: 0.4583 - val_accuracy: 0.8378\n",
      "Epoch 2/30\n",
      "3173/3173 [==============================] - 221s 70ms/step - loss: 0.6364 - accuracy: 0.7928 - val_loss: 0.3941 - val_accuracy: 0.8629\n",
      "Epoch 3/30\n",
      "3173/3173 [==============================] - 220s 69ms/step - loss: 0.5472 - accuracy: 0.8172 - val_loss: 0.3641 - val_accuracy: 0.8712\n",
      "Epoch 4/30\n",
      "3173/3173 [==============================] - 224s 71ms/step - loss: 0.5018 - accuracy: 0.8276 - val_loss: 0.3543 - val_accuracy: 0.8764\n",
      "Epoch 5/30\n",
      "3173/3173 [==============================] - 226s 71ms/step - loss: 0.4663 - accuracy: 0.8401 - val_loss: 0.3601 - val_accuracy: 0.8762\n",
      "Epoch 6/30\n",
      "3173/3173 [==============================] - 241s 76ms/step - loss: 0.4420 - accuracy: 0.8468 - val_loss: 0.3455 - val_accuracy: 0.8777\n",
      "Epoch 7/30\n",
      "3173/3173 [==============================] - 231s 73ms/step - loss: 0.4239 - accuracy: 0.8506 - val_loss: 0.3454 - val_accuracy: 0.8797\n",
      "Epoch 8/30\n",
      "3173/3173 [==============================] - 239s 75ms/step - loss: 0.4010 - accuracy: 0.8569 - val_loss: 0.3361 - val_accuracy: 0.8805\n",
      "Epoch 9/30\n",
      "3173/3173 [==============================] - 224s 71ms/step - loss: 0.3853 - accuracy: 0.8627 - val_loss: 0.3376 - val_accuracy: 0.8823\n",
      "Epoch 10/30\n",
      "3173/3173 [==============================] - 224s 70ms/step - loss: 0.3742 - accuracy: 0.8654 - val_loss: 0.3410 - val_accuracy: 0.8830\n",
      "Epoch 11/30\n",
      "3173/3173 [==============================] - 217s 68ms/step - loss: 0.3594 - accuracy: 0.8696 - val_loss: 0.3501 - val_accuracy: 0.8816\n"
     ]
    }
   ],
   "metadata": {}
  },
  {
   "cell_type": "code",
   "execution_count": 124,
   "source": [
    "best_model = keras.models.load_model(\"cnn_logs/CNN_model1.h5\")\r\n",
    "print(\"training: \", best_model.evaluate(X_train_C, y_train))\r\n",
    "print(\"Valid: \", best_model.evaluate(X_val_C, y_val))"
   ],
   "outputs": [
    {
     "output_type": "stream",
     "name": "stdout",
     "text": [
      "3173/3173 [==============================] - 28s 9ms/step - loss: 0.2322 - accuracy: 0.9106\n",
      "training:  [0.2322240173816681, 0.9105890393257141]\n",
      "353/353 [==============================] - 3s 9ms/step - loss: 0.3361 - accuracy: 0.8805\n",
      "Valid:  [0.33608120679855347, 0.8804964423179626]\n"
     ]
    }
   ],
   "metadata": {}
  },
  {
   "cell_type": "code",
   "execution_count": 123,
   "source": [
    "pd.DataFrame(history.history).plot(figsize = (10, 5))\r\n",
    "plt.grid(True)\r\n",
    "plt.show()"
   ],
   "outputs": [
    {
     "output_type": "display_data",
     "data": {
      "text/plain": [
       "<Figure size 720x360 with 1 Axes>"
      ],
      "image/png": "[encoded data removed]"
     },
     "metadata": {
      "needs_background": "light"
     }
    }
   ],
   "metadata": {}
  },
  {
   "cell_type": "code",
   "execution_count": 125,
   "source": [
    "best_model.save(\"models/cnn_model.h5\")"
   ],
   "outputs": [],
   "metadata": {}
  },
  {
   "cell_type": "markdown",
   "source": [
    "# Validació del model random forest, pesa massa per guardar-lo"
   ],
   "metadata": {}
  },
  {
   "cell_type": "code",
   "execution_count": 10,
   "source": [
    "RF_model.score(flatten(X_val), y_val)\r\n",
    "RF_model.score(flatten(X_test), y_test)"
   ],
   "outputs": [
    {
     "output_type": "execute_result",
     "data": {
      "text/plain": [
       "0.8261702127659575"
      ]
     },
     "metadata": {},
     "execution_count": 10
    }
   ],
   "metadata": {}
  },
  {
   "cell_type": "code",
   "execution_count": 11,
   "source": [
    "RF_model.score(flatten(X_val), y_val)"
   ],
   "outputs": [
    {
     "output_type": "execute_result",
     "data": {
      "text/plain": [
       "0.8320035460992907"
      ]
     },
     "metadata": {},
     "execution_count": 11
    }
   ],
   "metadata": {}
  }
 ],
 "metadata": {
  "orig_nbformat": 4,
  "language_info": {
   "name": "python",
   "version": "3.8.6",
   "mimetype": "text/x-python",
   "codemirror_mode": {
    "name": "ipython",
    "version": 3
   },
   "pygments_lexer": "ipython3",
   "nbconvert_exporter": "python",
   "file_extension": ".py"
  },
  "kernelspec": {
   "name": "python3",
   "display_name": "Python 3.8.6 64-bit ('.venv': venv)"
  },
  "interpreter": {
   "hash": "240ade2d8f7070515eb92b58feb4182c269d972728a568c5e7f067643896a2b7"
  }
 },
 "nbformat": 4,
 "nbformat_minor": 2
}