{
 "cells": [
  {
   "cell_type": "code",
   "execution_count": 1,
   "source": [
    "import os\r\n",
    "import numpy as np\r\n",
    "import pandas as pd\r\n",
    "\r\n",
    "%matplotlib inline\r\n",
    "import matplotlib as mpl\r\n",
    "import matplotlib.pyplot as plt\r\n",
    "\r\n",
    "from emnist import list_datasets, extract_training_samples, extract_test_samples\r\n",
    "\r\n",
    "from sklearn.model_selection import train_test_split\r\n",
    "from sklearn.metrics import accuracy_score\r\n",
    "from sklearn.pipeline import make_pipeline\r\n",
    "from sklearn.preprocessing import StandardScaler, MinMaxScaler\r\n",
    "from sklearn.model_selection import RandomizedSearchCV, GridSearchCV\r\n",
    "from scipy.stats import reciprocal, uniform, randint\r\n",
    "\r\n",
    "def flatten(data, dim_img = (28, 28)):\r\n",
    "    return data.reshape(len(data), dim_img[0] * dim_img[1])\r\n",
    "    \r\n",
    "print(list_datasets())"
   ],
   "outputs": [
    {
     "output_type": "stream",
     "name": "stdout",
     "text": [
      "['balanced', 'byclass', 'bymerge', 'digits', 'letters', 'mnist']\n"
     ]
    }
   ],
   "metadata": {}
  },
  {
   "cell_type": "code",
   "execution_count": 2,
   "source": [
    "tipus = \"balanced\"\r\n",
    "\r\n",
    "X_full_train, y_full_train = extract_training_samples(tipus)\r\n",
    "X_test, y_test = extract_test_samples(tipus)\r\n",
    "X_train, X_val, y_train, y_val = train_test_split(X_full_train, y_full_train, test_size = 0.1, random_state = 123)\r\n",
    "\r\n",
    "X_train_red, y_train_red = flatten(X_train[:10000]), y_train[:10000]"
   ],
   "outputs": [],
   "metadata": {}
  },
  {
   "cell_type": "markdown",
   "source": [
    "# SVM C\r\n",
    "\r\n",
    "1. gridsearch: param_dist = {\"svc__gamma\" : uniform(1e-6, 0.01), \"svc__C\" : uniform(0.1, 15)} # n_iter = 30, n_mostra = 3000\r\n",
    "2. gridsearch: param_dist = {\"svc__gamma\" : reciprocal(1e-6, 1e-3), \"svc__C\" : uniform(1, 15)} # n_iter = 30, n_mostra = 4000\r\n",
    "3. gridsearch: param_dist = {\"svc__gamma\" : reciprocal(1e-4, 1e-3), \"svc__C\" : uniform(2, 12)} # n_iter = 20, n_mostra = 5000\r\n",
    "4. gridsearch: param_dist = {\"svc__gamma\" : reciprocal(0.00075, 0.00125), \"svc__C\" : uniform(3, 9)} # n_iter = 15, n_mostra = 5000"
   ],
   "metadata": {}
  },
  {
   "cell_type": "code",
   "execution_count": 78,
   "source": [
    "from sklearn.svm import SVC\r\n",
    "\r\n",
    "X_train_red, y_train_red = flatten(X_train[12000:17000]), y_train[12000:17000] # agafem mostres diferents per cada tanda\r\n",
    "\r\n",
    "param_dist = {\"svc__gamma\" : reciprocal(0.00075, 0.003), \"svc__C\" : uniform(3, 9)}\r\n",
    "SVC_rs = make_pipeline(StandardScaler(), SVC(kernel = 'rbf'))\r\n",
    "\r\n",
    "rsCV_SVC = RandomizedSearchCV(SVC_rs, param_dist, n_iter = 15, verbose = 1, cv = 3)\r\n",
    "rsCV_SVC.fit(X_train_red, y_train_red)\r\n",
    "cvData = pd.DataFrame(rsCV_SVC.cv_results_)"
   ],
   "outputs": [
    {
     "output_type": "stream",
     "name": "stdout",
     "text": [
      "Fitting 3 folds for each of 15 candidates, totalling 45 fits\n"
     ]
    }
   ],
   "metadata": {}
  },
  {
   "cell_type": "code",
   "execution_count": 91,
   "source": [
    "plt.figure(figsize = (2 * 7, 1 * 7))\r\n",
    "plt.subplot(1, 2, 1)\r\n",
    "plt.plot(cvData[\"param_svc__C\"], cvData[\"mean_test_score\"], linestyle = \"\", marker = 'o', color = \"g\")\r\n",
    "plt.xlabel(\"C\")\r\n",
    "plt.ylabel(\"Acc\")\r\n",
    "plt.subplot(1, 2, 2)\r\n",
    "plt.plot(cvData[\"param_svc__gamma\"], cvData[\"mean_test_score\"], linestyle = \"\", marker = 'o', color = \"y\")\r\n",
    "plt.xlabel(\"log gamma\")\r\n",
    "plt.ylabel(\"Acc\")\r\n",
    "plt.xscale(\"log\")\r\n",
    "fig = plt.gcf()\r\n",
    "fig.suptitle(\"SVC quart afinament d'hyperparàmetres\", fontsize = 16)\r\n",
    "plt.show()"
   ],
   "outputs": [
    {
     "output_type": "display_data",
     "data": {
      "text/plain": [
       "<Figure size 1008x504 with 2 Axes>"
      ],
      "image/png": "[encoded data removed]"
     },
     "metadata": {
      "needs_background": "light"
     }
    }
   ],
   "metadata": {}
  },
  {
   "cell_type": "markdown",
   "source": [
    "## Millor model"
   ],
   "metadata": {}
  },
  {
   "cell_type": "code",
   "execution_count": 83,
   "source": [
    "print(rsCV_SVC.best_estimator_)\r\n",
    "print(rsCV_SVC.best_score_)\r\n",
    "# rsCV_SVC.best_estimator_.fit(X_train, y_train)"
   ],
   "outputs": [
    {
     "output_type": "stream",
     "name": "stdout",
     "text": [
      "Pipeline(steps=[('standardscaler', StandardScaler()),\n",
      "                ('svc', SVC(C=6.960189903709831, gamma=0.0011532078895434917))])\n",
      "0.674800334050837\n"
     ]
    }
   ],
   "metadata": {}
  },
  {
   "cell_type": "code",
   "execution_count": 85,
   "source": [
    "SVC_model = make_pipeline(StandardScaler(), \r\n",
    "                       SVC(kernel = 'rbf', gamma = 0.00115, C = 7, max_iter = 500))\r\n",
    "SVC_model.fit(flatten(X_train), y_train)"
   ],
   "outputs": [
    {
     "output_type": "stream",
     "name": "stderr",
     "text": [
      "d:\\Estudi\\Uni\\Actual\\TFG\\Github\\.venv\\lib\\site-packages\\sklearn\\svm\\_base.py:255: ConvergenceWarning: Solver terminated early (max_iter=500).  Consider pre-processing your data with StandardScaler or MinMaxScaler.\n",
      "  warnings.warn('Solver terminated early (max_iter=%i).'\n"
     ]
    },
    {
     "output_type": "execute_result",
     "data": {
      "text/plain": [
       "Pipeline(steps=[('standardscaler', StandardScaler()),\n",
       "                ('svc', SVC(C=7, gamma=0.00115, max_iter=500))])"
      ]
     },
     "metadata": {},
     "execution_count": 85
    }
   ],
   "metadata": {}
  },
  {
   "cell_type": "code",
   "execution_count": 86,
   "source": [
    "y_predict = SVC_model.predict(flatten(X_val))\r\n",
    "accuracy_score(y_val, y_predict)"
   ],
   "outputs": [
    {
     "output_type": "execute_result",
     "data": {
      "text/plain": [
       "0.7995567375886525"
      ]
     },
     "metadata": {},
     "execution_count": 86
    }
   ],
   "metadata": {}
  },
  {
   "cell_type": "code",
   "execution_count": 89,
   "source": [
    "y_predict_train = SVC_model.predict(flatten(X_train[-10000:]))\r\n",
    "accuracy_score(y_train[-10000:], y_predict_train)"
   ],
   "outputs": [
    {
     "output_type": "execute_result",
     "data": {
      "text/plain": [
       "0.8941"
      ]
     },
     "metadata": {},
     "execution_count": 89
    }
   ],
   "metadata": {}
  },
  {
   "cell_type": "code",
   "execution_count": 90,
   "source": [
    "# Reducció de C per veure si es generalitza millor\r\n",
    "SVC_model2 = make_pipeline(StandardScaler(), \r\n",
    "                       SVC(kernel = 'rbf', gamma = 0.00115, C = 3, max_iter = 500))\r\n",
    "SVC_model2.fit(flatten(X_train), y_train)\r\n",
    "\r\n",
    "y_predict = SVC_model2.predict(flatten(X_val))\r\n",
    "y_predict_train = SVC_model2.predict(flatten(X_train[-10000:]))\r\n",
    "print(accuracy_score(y_val, y_predict))\r\n",
    "print(accuracy_score(y_train[-10000:], y_predict_train))"
   ],
   "outputs": [
    {
     "output_type": "stream",
     "name": "stderr",
     "text": [
      "d:\\Estudi\\Uni\\Actual\\TFG\\Github\\.venv\\lib\\site-packages\\sklearn\\svm\\_base.py:255: ConvergenceWarning: Solver terminated early (max_iter=500).  Consider pre-processing your data with StandardScaler or MinMaxScaler.\n",
      "  warnings.warn('Solver terminated early (max_iter=%i).'\n"
     ]
    },
    {
     "output_type": "stream",
     "name": "stdout",
     "text": [
      "0.8020390070921986\n",
      "0.8791\n"
     ]
    }
   ],
   "metadata": {}
  },
  {
   "cell_type": "code",
   "execution_count": 96,
   "source": [
    "import joblib\r\n",
    "# save models\r\n",
    "\r\n",
    "joblib.dump(SVC_model, \"models/svc_model1.joblib\")\r\n",
    "joblib.dump(SVC_model2, \"models/svc_model2.joblib\")\r\n",
    "joblib.dump(rsCV_SVC, \"models/randomSearch_SVC.joblib\")"
   ],
   "outputs": [
    {
     "output_type": "execute_result",
     "data": {
      "text/plain": [
       "['models/randomSearch_SVC.joblib']"
      ]
     },
     "metadata": {},
     "execution_count": 96
    }
   ],
   "metadata": {}
  },
  {
   "cell_type": "markdown",
   "source": [
    "# Random Forest C\r\n",
    "\r\n",
    "Hyperparàmetres possibles dels arbres a estimar:\r\n",
    "- *n_estimators: nombre de trees en forest \r\n",
    "- *max_features: nombre de variables a considerar per la millor partició\r\n",
    "- max_depth: nombre màxim de nivells per cada arbre\r\n",
    "- min_samples_split: nombre minim de dades en un node abans de fer partició\r\n",
    "- min_samples_leaf: nombre mínim de dades en un node (fulla)\r\n",
    "- bootstrap: replacement o no.\r\n",
    "\r\n",
    "1. param_dist = {'n_estimators': randint(100, 1000 + 1),\r\n",
    "              'max_depth': list(np.append(None, np.linspace(start = 10, stop = 100, num = 5).astype(int))),\r\n",
    "              'min_samples_split': randint(2, 10 + 1),\r\n",
    "              'min_samples_leaf': randint(1, 4 + 1),\r\n",
    "              'bootstrap': [True, False]} # n = 5000, n_iter = 100, t = 1,480s\r\n",
    "\r\n",
    "2. param_dist = {'n_estimators': randint(200, 1500 + 1),\r\n",
    "              'max_depth': list(np.append(None, np.linspace(start = 50, stop = 100, num = 5).astype(int))),\r\n",
    "              'min_samples_split': randint(2, 5 + 1),\r\n",
    "              'min_samples_leaf': randint(1, 2 + 1),\r\n",
    "              'bootstrap': [False]} # n = 7000, n_iter = 75, t = 2,965s\r\n",
    "\r\n",
    "3. param_dist = {'n_estimators': randint(1400, 2000 + 1),\r\n",
    "              'max_depth': list(np.linspace(start = 50, stop = 100, num = 6).astype(int)),\r\n",
    "              'min_samples_split': randint(2, 3 + 1)} # n = 8000, n_iter = 50, t = 17,500"
   ],
   "metadata": {}
  },
  {
   "cell_type": "code",
   "execution_count": 301,
   "source": [
    "from sklearn.ensemble import RandomForestClassifier\r\n",
    "\r\n",
    "X_train_red, y_train_red = flatten(X_train[12000:20000]), y_train[12000:20000] # agafem mostres diferents per cada tanda\r\n",
    "\r\n",
    "param_dist = {'n_estimators': randint(1400, 2000 + 1),\r\n",
    "              'max_depth': list(np.linspace(start = 50, stop = 100, num = 6).astype(int)),\r\n",
    "              'min_samples_split': randint(2, 3 + 1)}      \r\n",
    "rf = RandomForestClassifier(bootstrap = False, min_samples_leaf = 1)\r\n",
    "\r\n",
    "rsCV_RF = RandomizedSearchCV(rf, param_dist, n_iter = 50, verbose = 1, cv = 3)\r\n",
    "rsCV_RF.fit(X_train_red, y_train_red)\r\n",
    "cvData = pd.DataFrame(rsCV_RF.cv_results_)"
   ],
   "outputs": [
    {
     "output_type": "stream",
     "name": "stdout",
     "text": [
      "Fitting 3 folds for each of 50 candidates, totalling 150 fits\n"
     ]
    }
   ],
   "metadata": {}
  },
  {
   "cell_type": "code",
   "execution_count": 310,
   "source": [
    "cvData[[\"mean_test_score\", \"param_max_depth\", \"param_min_samples_split\", \"param_n_estimators\"]].sort_values(by = [\"mean_test_score\"], ascending = False).head()"
   ],
   "outputs": [
    {
     "output_type": "execute_result",
     "data": {
      "text/plain": [
       "    mean_test_score param_max_depth param_min_samples_split param_n_estimators\n",
       "10         0.725251              80                       2               1704\n",
       "45         0.725001              80                       3               1944\n",
       "49         0.724376              70                       3               1810\n",
       "31         0.724376              60                       3               1518\n",
       "29         0.724251              60                       2               1657"
      ],
      "text/html": [
       "<div>\n",
       "<style scoped>\n",
       "    .dataframe tbody tr th:only-of-type {\n",
       "        vertical-align: middle;\n",
       "    }\n",
       "\n",
       "    .dataframe tbody tr th {\n",
       "        vertical-align: top;\n",
       "    }\n",
       "\n",
       "    .dataframe thead th {\n",
       "        text-align: right;\n",
       "    }\n",
       "</style>\n",
       "<table border=\"1\" class=\"dataframe\">\n",
       "  <thead>\n",
       "    <tr style=\"text-align: right;\">\n",
       "      <th></th>\n",
       "      <th>mean_test_score</th>\n",
       "      <th>param_max_depth</th>\n",
       "      <th>param_min_samples_split</th>\n",
       "      <th>param_n_estimators</th>\n",
       "    </tr>\n",
       "  </thead>\n",
       "  <tbody>\n",
       "    <tr>\n",
       "      <th>10</th>\n",
       "      <td>0.725251</td>\n",
       "      <td>80</td>\n",
       "      <td>2</td>\n",
       "      <td>1704</td>\n",
       "    </tr>\n",
       "    <tr>\n",
       "      <th>45</th>\n",
       "      <td>0.725001</td>\n",
       "      <td>80</td>\n",
       "      <td>3</td>\n",
       "      <td>1944</td>\n",
       "    </tr>\n",
       "    <tr>\n",
       "      <th>49</th>\n",
       "      <td>0.724376</td>\n",
       "      <td>70</td>\n",
       "      <td>3</td>\n",
       "      <td>1810</td>\n",
       "    </tr>\n",
       "    <tr>\n",
       "      <th>31</th>\n",
       "      <td>0.724376</td>\n",
       "      <td>60</td>\n",
       "      <td>3</td>\n",
       "      <td>1518</td>\n",
       "    </tr>\n",
       "    <tr>\n",
       "      <th>29</th>\n",
       "      <td>0.724251</td>\n",
       "      <td>60</td>\n",
       "      <td>2</td>\n",
       "      <td>1657</td>\n",
       "    </tr>\n",
       "  </tbody>\n",
       "</table>\n",
       "</div>"
      ]
     },
     "metadata": {},
     "execution_count": 310
    }
   ],
   "metadata": {}
  },
  {
   "cell_type": "code",
   "execution_count": 304,
   "source": [
    "def binarize_data(cvData, nom_var):\r\n",
    "    for idx, num in enumerate(cvData[nom_var]):\r\n",
    "        if num is None:\r\n",
    "            cvData[nom_var][idx] = \"None\"\r\n",
    "    new_data = []\r\n",
    "    labels = pd.unique(cvData[nom_var])\r\n",
    "    for clase in labels:\r\n",
    "        new_data.append(cvData[\"mean_test_score\"][cvData[nom_var] == clase])\r\n",
    "    return new_data, labels\r\n",
    "    \r\n",
    "def plot_hyper_RF(cvData, title):\r\n",
    "    plt.figure(figsize = (2 * 6, 2 * 6))\r\n",
    "\r\n",
    "    plt.subplot(2, 2, 1)\r\n",
    "    x, noms = binarize_data(cvData, \"param_max_depth\")\r\n",
    "    plt.boxplot(x)\r\n",
    "    plt.xlabel(\"max_depth\")\r\n",
    "    plt.ylabel(\"Acc\")\r\n",
    "    plt.xticks(np.arange(len(x)) + 1, noms)\r\n",
    "\r\n",
    "    plt.subplot(2, 2, 2)\r\n",
    "    x, noms = binarize_data(cvData, \"param_min_samples_split\")\r\n",
    "    idx = np.argsort(noms)\r\n",
    "    plt.boxplot([x[i] for i in idx])\r\n",
    "    plt.xlabel(\"min_samples_split\")\r\n",
    "    plt.ylabel(\"Acc\")\r\n",
    "    plt.xticks(np.arange(len(x)) + 1, noms[idx])\r\n",
    "\r\n",
    "    plt.subplot(2, 2, 4)\r\n",
    "    plt.plot(cvData[\"param_n_estimators\"], cvData[\"mean_test_score\"], linestyle = \"\", marker = 'o', color = \"y\")\r\n",
    "    plt.xlabel(\"n_estimators\")\r\n",
    "    plt.ylabel(\"Acc\")\r\n",
    "\r\n",
    "    fig = plt.gcf()\r\n",
    "    fig.suptitle(title, fontsize = 18)\r\n",
    "    plt.show()"
   ],
   "outputs": [],
   "metadata": {}
  },
  {
   "cell_type": "code",
   "execution_count": 305,
   "source": [
    "plot_hyper_RF(cvData, title = \"Random Forest: Segon afinament d'hyperparàmetres\")"
   ],
   "outputs": [
    {
     "output_type": "display_data",
     "data": {
      "text/plain": [
       "<Figure size 864x864 with 3 Axes>"
      ],
      "image/png": "[encoded data removed]"
     },
     "metadata": {
      "needs_background": "light"
     }
    }
   ],
   "metadata": {}
  },
  {
   "cell_type": "code",
   "execution_count": 307,
   "source": [
    "rsCV_RF.best_estimator_"
   ],
   "outputs": [
    {
     "output_type": "execute_result",
     "data": {
      "text/plain": [
       "RandomForestClassifier(bootstrap=False, max_depth=80, n_estimators=1704)"
      ]
     },
     "metadata": {},
     "execution_count": 307
    }
   ],
   "metadata": {}
  },
  {
   "cell_type": "markdown",
   "source": [
    "## Millor model"
   ],
   "metadata": {}
  },
  {
   "cell_type": "code",
   "execution_count": 309,
   "source": [
    "print(rsCV_RF.best_estimator_)\r\n",
    "print(rsCV_RF.best_score_)\r\n",
    "# rsCV_RF.best_estimator_.fit(X_train, y_train)"
   ],
   "outputs": [
    {
     "output_type": "stream",
     "name": "stdout",
     "text": [
      "RandomForestClassifier(bootstrap=False, max_depth=80, n_estimators=1704)\n",
      "0.7252511478075743\n"
     ]
    }
   ],
   "metadata": {}
  },
  {
   "cell_type": "code",
   "execution_count": 4,
   "source": [
    "from sklearn.ensemble import RandomForestClassifier\r\n",
    "\r\n",
    "del X_full_train, y_full_train, X_train_red, y_train_red\r\n",
    "\r\n",
    "RF_model = RandomForestClassifier(n_estimators = 1700, max_depth = 80, bootstrap = False, min_samples_leaf = 1, min_samples_split = 2, random_state = 123)\r\n",
    "RF_model.fit(flatten(X_train), y_train)"
   ],
   "outputs": [
    {
     "output_type": "error",
     "ename": "MemoryError",
     "evalue": "Unable to allocate 304. MiB for an array with shape (101520, 784) and data type float32",
     "traceback": [
      "\u001b[1;31m---------------------------------------------------------------------------\u001b[0m",
      "\u001b[1;31mMemoryError\u001b[0m                               Traceback (most recent call last)",
      "\u001b[1;32m<ipython-input-4-1a2826ed2f7f>\u001b[0m in \u001b[0;36m<module>\u001b[1;34m\u001b[0m\n\u001b[0;32m      4\u001b[0m \u001b[1;33m\u001b[0m\u001b[0m\n\u001b[0;32m      5\u001b[0m \u001b[0mRF_model\u001b[0m \u001b[1;33m=\u001b[0m \u001b[0mRandomForestClassifier\u001b[0m\u001b[1;33m(\u001b[0m\u001b[0mn_estimators\u001b[0m \u001b[1;33m=\u001b[0m \u001b[1;36m1700\u001b[0m\u001b[1;33m,\u001b[0m \u001b[0mmax_depth\u001b[0m \u001b[1;33m=\u001b[0m \u001b[1;36m80\u001b[0m\u001b[1;33m,\u001b[0m \u001b[0mbootstrap\u001b[0m \u001b[1;33m=\u001b[0m \u001b[1;32mFalse\u001b[0m\u001b[1;33m,\u001b[0m \u001b[0mmin_samples_leaf\u001b[0m \u001b[1;33m=\u001b[0m \u001b[1;36m1\u001b[0m\u001b[1;33m,\u001b[0m \u001b[0mmin_samples_split\u001b[0m \u001b[1;33m=\u001b[0m \u001b[1;36m2\u001b[0m\u001b[1;33m,\u001b[0m \u001b[0mrandom_state\u001b[0m \u001b[1;33m=\u001b[0m \u001b[1;36m123\u001b[0m\u001b[1;33m)\u001b[0m\u001b[1;33m\u001b[0m\u001b[1;33m\u001b[0m\u001b[0m\n\u001b[1;32m----> 6\u001b[1;33m \u001b[0mRF_model\u001b[0m\u001b[1;33m.\u001b[0m\u001b[0mfit\u001b[0m\u001b[1;33m(\u001b[0m\u001b[0mflatten\u001b[0m\u001b[1;33m(\u001b[0m\u001b[0mX_train\u001b[0m\u001b[1;33m)\u001b[0m\u001b[1;33m,\u001b[0m \u001b[0my_train\u001b[0m\u001b[1;33m)\u001b[0m\u001b[1;33m\u001b[0m\u001b[1;33m\u001b[0m\u001b[0m\n\u001b[0m",
      "\u001b[1;32md:\\Estudi\\Uni\\Actual\\TFG\\Github\\.venv\\lib\\site-packages\\sklearn\\ensemble\\_forest.py\u001b[0m in \u001b[0;36mfit\u001b[1;34m(self, X, y, sample_weight)\u001b[0m\n\u001b[0;32m    302\u001b[0m                 \u001b[1;34m\"sparse multilabel-indicator for y is not supported.\"\u001b[0m\u001b[1;33m\u001b[0m\u001b[1;33m\u001b[0m\u001b[0m\n\u001b[0;32m    303\u001b[0m             )\n\u001b[1;32m--> 304\u001b[1;33m         X, y = self._validate_data(X, y, multi_output=True,\n\u001b[0m\u001b[0;32m    305\u001b[0m                                    accept_sparse=\"csc\", dtype=DTYPE)\n\u001b[0;32m    306\u001b[0m         \u001b[1;32mif\u001b[0m \u001b[0msample_weight\u001b[0m \u001b[1;32mis\u001b[0m \u001b[1;32mnot\u001b[0m \u001b[1;32mNone\u001b[0m\u001b[1;33m:\u001b[0m\u001b[1;33m\u001b[0m\u001b[1;33m\u001b[0m\u001b[0m\n",
      "\u001b[1;32md:\\Estudi\\Uni\\Actual\\TFG\\Github\\.venv\\lib\\site-packages\\sklearn\\base.py\u001b[0m in \u001b[0;36m_validate_data\u001b[1;34m(self, X, y, reset, validate_separately, **check_params)\u001b[0m\n\u001b[0;32m    431\u001b[0m                 \u001b[0my\u001b[0m \u001b[1;33m=\u001b[0m \u001b[0mcheck_array\u001b[0m\u001b[1;33m(\u001b[0m\u001b[0my\u001b[0m\u001b[1;33m,\u001b[0m \u001b[1;33m**\u001b[0m\u001b[0mcheck_y_params\u001b[0m\u001b[1;33m)\u001b[0m\u001b[1;33m\u001b[0m\u001b[1;33m\u001b[0m\u001b[0m\n\u001b[0;32m    432\u001b[0m             \u001b[1;32melse\u001b[0m\u001b[1;33m:\u001b[0m\u001b[1;33m\u001b[0m\u001b[1;33m\u001b[0m\u001b[0m\n\u001b[1;32m--> 433\u001b[1;33m                 \u001b[0mX\u001b[0m\u001b[1;33m,\u001b[0m \u001b[0my\u001b[0m \u001b[1;33m=\u001b[0m \u001b[0mcheck_X_y\u001b[0m\u001b[1;33m(\u001b[0m\u001b[0mX\u001b[0m\u001b[1;33m,\u001b[0m \u001b[0my\u001b[0m\u001b[1;33m,\u001b[0m \u001b[1;33m**\u001b[0m\u001b[0mcheck_params\u001b[0m\u001b[1;33m)\u001b[0m\u001b[1;33m\u001b[0m\u001b[1;33m\u001b[0m\u001b[0m\n\u001b[0m\u001b[0;32m    434\u001b[0m             \u001b[0mout\u001b[0m \u001b[1;33m=\u001b[0m \u001b[0mX\u001b[0m\u001b[1;33m,\u001b[0m \u001b[0my\u001b[0m\u001b[1;33m\u001b[0m\u001b[1;33m\u001b[0m\u001b[0m\n\u001b[0;32m    435\u001b[0m \u001b[1;33m\u001b[0m\u001b[0m\n",
      "\u001b[1;32md:\\Estudi\\Uni\\Actual\\TFG\\Github\\.venv\\lib\\site-packages\\sklearn\\utils\\validation.py\u001b[0m in \u001b[0;36minner_f\u001b[1;34m(*args, **kwargs)\u001b[0m\n\u001b[0;32m     61\u001b[0m             \u001b[0mextra_args\u001b[0m \u001b[1;33m=\u001b[0m \u001b[0mlen\u001b[0m\u001b[1;33m(\u001b[0m\u001b[0margs\u001b[0m\u001b[1;33m)\u001b[0m \u001b[1;33m-\u001b[0m \u001b[0mlen\u001b[0m\u001b[1;33m(\u001b[0m\u001b[0mall_args\u001b[0m\u001b[1;33m)\u001b[0m\u001b[1;33m\u001b[0m\u001b[1;33m\u001b[0m\u001b[0m\n\u001b[0;32m     62\u001b[0m             \u001b[1;32mif\u001b[0m \u001b[0mextra_args\u001b[0m \u001b[1;33m<=\u001b[0m \u001b[1;36m0\u001b[0m\u001b[1;33m:\u001b[0m\u001b[1;33m\u001b[0m\u001b[1;33m\u001b[0m\u001b[0m\n\u001b[1;32m---> 63\u001b[1;33m                 \u001b[1;32mreturn\u001b[0m \u001b[0mf\u001b[0m\u001b[1;33m(\u001b[0m\u001b[1;33m*\u001b[0m\u001b[0margs\u001b[0m\u001b[1;33m,\u001b[0m \u001b[1;33m**\u001b[0m\u001b[0mkwargs\u001b[0m\u001b[1;33m)\u001b[0m\u001b[1;33m\u001b[0m\u001b[1;33m\u001b[0m\u001b[0m\n\u001b[0m\u001b[0;32m     64\u001b[0m \u001b[1;33m\u001b[0m\u001b[0m\n\u001b[0;32m     65\u001b[0m             \u001b[1;31m# extra_args > 0\u001b[0m\u001b[1;33m\u001b[0m\u001b[1;33m\u001b[0m\u001b[1;33m\u001b[0m\u001b[0m\n",
      "\u001b[1;32md:\\Estudi\\Uni\\Actual\\TFG\\Github\\.venv\\lib\\site-packages\\sklearn\\utils\\validation.py\u001b[0m in \u001b[0;36mcheck_X_y\u001b[1;34m(X, y, accept_sparse, accept_large_sparse, dtype, order, copy, force_all_finite, ensure_2d, allow_nd, multi_output, ensure_min_samples, ensure_min_features, y_numeric, estimator)\u001b[0m\n\u001b[0;32m    869\u001b[0m         \u001b[1;32mraise\u001b[0m \u001b[0mValueError\u001b[0m\u001b[1;33m(\u001b[0m\u001b[1;34m\"y cannot be None\"\u001b[0m\u001b[1;33m)\u001b[0m\u001b[1;33m\u001b[0m\u001b[1;33m\u001b[0m\u001b[0m\n\u001b[0;32m    870\u001b[0m \u001b[1;33m\u001b[0m\u001b[0m\n\u001b[1;32m--> 871\u001b[1;33m     X = check_array(X, accept_sparse=accept_sparse,\n\u001b[0m\u001b[0;32m    872\u001b[0m                     \u001b[0maccept_large_sparse\u001b[0m\u001b[1;33m=\u001b[0m\u001b[0maccept_large_sparse\u001b[0m\u001b[1;33m,\u001b[0m\u001b[1;33m\u001b[0m\u001b[1;33m\u001b[0m\u001b[0m\n\u001b[0;32m    873\u001b[0m                     \u001b[0mdtype\u001b[0m\u001b[1;33m=\u001b[0m\u001b[0mdtype\u001b[0m\u001b[1;33m,\u001b[0m \u001b[0morder\u001b[0m\u001b[1;33m=\u001b[0m\u001b[0morder\u001b[0m\u001b[1;33m,\u001b[0m \u001b[0mcopy\u001b[0m\u001b[1;33m=\u001b[0m\u001b[0mcopy\u001b[0m\u001b[1;33m,\u001b[0m\u001b[1;33m\u001b[0m\u001b[1;33m\u001b[0m\u001b[0m\n",
      "\u001b[1;32md:\\Estudi\\Uni\\Actual\\TFG\\Github\\.venv\\lib\\site-packages\\sklearn\\utils\\validation.py\u001b[0m in \u001b[0;36minner_f\u001b[1;34m(*args, **kwargs)\u001b[0m\n\u001b[0;32m     61\u001b[0m             \u001b[0mextra_args\u001b[0m \u001b[1;33m=\u001b[0m \u001b[0mlen\u001b[0m\u001b[1;33m(\u001b[0m\u001b[0margs\u001b[0m\u001b[1;33m)\u001b[0m \u001b[1;33m-\u001b[0m \u001b[0mlen\u001b[0m\u001b[1;33m(\u001b[0m\u001b[0mall_args\u001b[0m\u001b[1;33m)\u001b[0m\u001b[1;33m\u001b[0m\u001b[1;33m\u001b[0m\u001b[0m\n\u001b[0;32m     62\u001b[0m             \u001b[1;32mif\u001b[0m \u001b[0mextra_args\u001b[0m \u001b[1;33m<=\u001b[0m \u001b[1;36m0\u001b[0m\u001b[1;33m:\u001b[0m\u001b[1;33m\u001b[0m\u001b[1;33m\u001b[0m\u001b[0m\n\u001b[1;32m---> 63\u001b[1;33m                 \u001b[1;32mreturn\u001b[0m \u001b[0mf\u001b[0m\u001b[1;33m(\u001b[0m\u001b[1;33m*\u001b[0m\u001b[0margs\u001b[0m\u001b[1;33m,\u001b[0m \u001b[1;33m**\u001b[0m\u001b[0mkwargs\u001b[0m\u001b[1;33m)\u001b[0m\u001b[1;33m\u001b[0m\u001b[1;33m\u001b[0m\u001b[0m\n\u001b[0m\u001b[0;32m     64\u001b[0m \u001b[1;33m\u001b[0m\u001b[0m\n\u001b[0;32m     65\u001b[0m             \u001b[1;31m# extra_args > 0\u001b[0m\u001b[1;33m\u001b[0m\u001b[1;33m\u001b[0m\u001b[1;33m\u001b[0m\u001b[0m\n",
      "\u001b[1;32md:\\Estudi\\Uni\\Actual\\TFG\\Github\\.venv\\lib\\site-packages\\sklearn\\utils\\validation.py\u001b[0m in \u001b[0;36mcheck_array\u001b[1;34m(array, accept_sparse, accept_large_sparse, dtype, order, copy, force_all_finite, ensure_2d, allow_nd, ensure_min_samples, ensure_min_features, estimator)\u001b[0m\n\u001b[0;32m    671\u001b[0m                     \u001b[0marray\u001b[0m \u001b[1;33m=\u001b[0m \u001b[0marray\u001b[0m\u001b[1;33m.\u001b[0m\u001b[0mastype\u001b[0m\u001b[1;33m(\u001b[0m\u001b[0mdtype\u001b[0m\u001b[1;33m,\u001b[0m \u001b[0mcasting\u001b[0m\u001b[1;33m=\u001b[0m\u001b[1;34m\"unsafe\"\u001b[0m\u001b[1;33m,\u001b[0m \u001b[0mcopy\u001b[0m\u001b[1;33m=\u001b[0m\u001b[1;32mFalse\u001b[0m\u001b[1;33m)\u001b[0m\u001b[1;33m\u001b[0m\u001b[1;33m\u001b[0m\u001b[0m\n\u001b[0;32m    672\u001b[0m                 \u001b[1;32melse\u001b[0m\u001b[1;33m:\u001b[0m\u001b[1;33m\u001b[0m\u001b[1;33m\u001b[0m\u001b[0m\n\u001b[1;32m--> 673\u001b[1;33m                     \u001b[0marray\u001b[0m \u001b[1;33m=\u001b[0m \u001b[0mnp\u001b[0m\u001b[1;33m.\u001b[0m\u001b[0masarray\u001b[0m\u001b[1;33m(\u001b[0m\u001b[0marray\u001b[0m\u001b[1;33m,\u001b[0m \u001b[0morder\u001b[0m\u001b[1;33m=\u001b[0m\u001b[0morder\u001b[0m\u001b[1;33m,\u001b[0m \u001b[0mdtype\u001b[0m\u001b[1;33m=\u001b[0m\u001b[0mdtype\u001b[0m\u001b[1;33m)\u001b[0m\u001b[1;33m\u001b[0m\u001b[1;33m\u001b[0m\u001b[0m\n\u001b[0m\u001b[0;32m    674\u001b[0m             \u001b[1;32mexcept\u001b[0m \u001b[0mComplexWarning\u001b[0m \u001b[1;32mas\u001b[0m \u001b[0mcomplex_warning\u001b[0m\u001b[1;33m:\u001b[0m\u001b[1;33m\u001b[0m\u001b[1;33m\u001b[0m\u001b[0m\n\u001b[0;32m    675\u001b[0m                 raise ValueError(\"Complex data not supported\\n\"\n",
      "\u001b[1;32md:\\Estudi\\Uni\\Actual\\TFG\\Github\\.venv\\lib\\site-packages\\numpy\\core\\_asarray.py\u001b[0m in \u001b[0;36masarray\u001b[1;34m(a, dtype, order)\u001b[0m\n\u001b[0;32m     81\u001b[0m \u001b[1;33m\u001b[0m\u001b[0m\n\u001b[0;32m     82\u001b[0m     \"\"\"\n\u001b[1;32m---> 83\u001b[1;33m     \u001b[1;32mreturn\u001b[0m \u001b[0marray\u001b[0m\u001b[1;33m(\u001b[0m\u001b[0ma\u001b[0m\u001b[1;33m,\u001b[0m \u001b[0mdtype\u001b[0m\u001b[1;33m,\u001b[0m \u001b[0mcopy\u001b[0m\u001b[1;33m=\u001b[0m\u001b[1;32mFalse\u001b[0m\u001b[1;33m,\u001b[0m \u001b[0morder\u001b[0m\u001b[1;33m=\u001b[0m\u001b[0morder\u001b[0m\u001b[1;33m)\u001b[0m\u001b[1;33m\u001b[0m\u001b[1;33m\u001b[0m\u001b[0m\n\u001b[0m\u001b[0;32m     84\u001b[0m \u001b[1;33m\u001b[0m\u001b[0m\n\u001b[0;32m     85\u001b[0m \u001b[1;33m\u001b[0m\u001b[0m\n",
      "\u001b[1;31mMemoryError\u001b[0m: Unable to allocate 304. MiB for an array with shape (101520, 784) and data type float32"
     ]
    }
   ],
   "metadata": {}
  },
  {
   "cell_type": "code",
   "execution_count": 312,
   "source": [
    "import joblib\r\n",
    "# save models\r\n",
    "\r\n",
    "joblib.dump(RF_model, \"models/RF_model1.joblib\")\r\n",
    "# joblib.dump(rsCV_SVC, \"models/randomSearch_RF.joblib\")"
   ],
   "outputs": [
    {
     "output_type": "execute_result",
     "data": {
      "text/plain": [
       "['models/randomSearch_RF.joblib']"
      ]
     },
     "metadata": {},
     "execution_count": 312
    }
   ],
   "metadata": {}
  }
 ],
 "metadata": {
  "orig_nbformat": 4,
  "language_info": {
   "name": "python",
   "version": "3.8.6",
   "mimetype": "text/x-python",
   "codemirror_mode": {
    "name": "ipython",
    "version": 3
   },
   "pygments_lexer": "ipython3",
   "nbconvert_exporter": "python",
   "file_extension": ".py"
  },
  "kernelspec": {
   "name": "python3",
   "display_name": "Python 3.8.6 64-bit ('.venv': venv)"
  },
  "interpreter": {
   "hash": "240ade2d8f7070515eb92b58feb4182c269d972728a568c5e7f067643896a2b7"
  }
 },
 "nbformat": 4,
 "nbformat_minor": 2
}